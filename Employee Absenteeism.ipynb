{
 "cells": [
  {
   "cell_type": "code",
   "execution_count": 1,
   "metadata": {},
   "outputs": [
    {
     "name": "stderr",
     "output_type": "stream",
     "text": [
      "Using TensorFlow backend.\n"
     ]
    }
   ],
   "source": [
    "#Load libraries\n",
    "import os\n",
    "import pandas as pd\n",
    "import numpy as np\n",
    "from fancyimpute import KNN   \n",
    "import matplotlib.pyplot as plt\n",
    "from scipy.stats import chi2_contingency\n",
    "import seaborn as sns\n",
    "from random import randrange, uniform\n",
    "from scipy import stats\n",
    "import warnings\n",
    "warnings.filterwarnings('ignore')\n",
    "from sklearn.model_selection import train_test_split,RandomizedSearchCV\n",
    "from imblearn.over_sampling import SMOTE\n",
    "from sklearn.neighbors import KNeighborsClassifier\n",
    "from sklearn.ensemble import RandomForestClassifier\n",
    "from sklearn.metrics import classification_report\n",
    "from sklearn.metrics import roc_curve,auc,roc_auc_score\n",
    "from sklearn.metrics import r2_score\n",
    "%matplotlib inline\n",
    "\n"
   ]
  },
  {
   "cell_type": "code",
   "execution_count": 3,
   "metadata": {
    "tags": [
     "hello"
    ]
   },
   "outputs": [
    {
     "data": {
      "text/plain": [
       "'/home/sharath/Data Science'"
      ]
     },
     "execution_count": 3,
     "metadata": {},
     "output_type": "execute_result"
    }
   ],
   "source": [
    "#Set working directory\n",
    "os.chdir(\"/home/sharath/Data Science\")\n",
    "os.getcwd()"
   ]
  },
  {
   "cell_type": "code",
   "execution_count": 4,
   "metadata": {},
   "outputs": [],
   "source": [
    "#Load the data\n",
    "Employee_abs=pd.read_excel(\"Absenteeism_at_work_Project.xls\")"
   ]
  },
  {
   "cell_type": "markdown",
   "metadata": {},
   "source": [
    "# Exploratory Data Analysis\n"
   ]
  },
  {
   "cell_type": "code",
   "execution_count": 5,
   "metadata": {},
   "outputs": [
    {
     "data": {
      "text/html": [
       "<div>\n",
       "<style scoped>\n",
       "    .dataframe tbody tr th:only-of-type {\n",
       "        vertical-align: middle;\n",
       "    }\n",
       "\n",
       "    .dataframe tbody tr th {\n",
       "        vertical-align: top;\n",
       "    }\n",
       "\n",
       "    .dataframe thead th {\n",
       "        text-align: right;\n",
       "    }\n",
       "</style>\n",
       "<table border=\"1\" class=\"dataframe\">\n",
       "  <thead>\n",
       "    <tr style=\"text-align: right;\">\n",
       "      <th></th>\n",
       "      <th>ID</th>\n",
       "      <th>Reason for absence</th>\n",
       "      <th>Month of absence</th>\n",
       "      <th>Day of the week</th>\n",
       "      <th>Seasons</th>\n",
       "      <th>Transportation expense</th>\n",
       "      <th>Distance from Residence to Work</th>\n",
       "      <th>Service time</th>\n",
       "      <th>Age</th>\n",
       "      <th>Work load Average/day</th>\n",
       "      <th>...</th>\n",
       "      <th>Disciplinary failure</th>\n",
       "      <th>Education</th>\n",
       "      <th>Son</th>\n",
       "      <th>Social drinker</th>\n",
       "      <th>Social smoker</th>\n",
       "      <th>Pet</th>\n",
       "      <th>Weight</th>\n",
       "      <th>Height</th>\n",
       "      <th>Body mass index</th>\n",
       "      <th>Absenteeism time in hours</th>\n",
       "    </tr>\n",
       "  </thead>\n",
       "  <tbody>\n",
       "    <tr>\n",
       "      <th>0</th>\n",
       "      <td>11</td>\n",
       "      <td>26.0</td>\n",
       "      <td>7.0</td>\n",
       "      <td>3</td>\n",
       "      <td>1</td>\n",
       "      <td>289.0</td>\n",
       "      <td>36.0</td>\n",
       "      <td>13.0</td>\n",
       "      <td>33.0</td>\n",
       "      <td>239554.0</td>\n",
       "      <td>...</td>\n",
       "      <td>0.0</td>\n",
       "      <td>1.0</td>\n",
       "      <td>2.0</td>\n",
       "      <td>1.0</td>\n",
       "      <td>0.0</td>\n",
       "      <td>1.0</td>\n",
       "      <td>90.0</td>\n",
       "      <td>172.0</td>\n",
       "      <td>30.0</td>\n",
       "      <td>4.0</td>\n",
       "    </tr>\n",
       "    <tr>\n",
       "      <th>1</th>\n",
       "      <td>36</td>\n",
       "      <td>0.0</td>\n",
       "      <td>7.0</td>\n",
       "      <td>3</td>\n",
       "      <td>1</td>\n",
       "      <td>118.0</td>\n",
       "      <td>13.0</td>\n",
       "      <td>18.0</td>\n",
       "      <td>50.0</td>\n",
       "      <td>239554.0</td>\n",
       "      <td>...</td>\n",
       "      <td>1.0</td>\n",
       "      <td>1.0</td>\n",
       "      <td>1.0</td>\n",
       "      <td>1.0</td>\n",
       "      <td>0.0</td>\n",
       "      <td>0.0</td>\n",
       "      <td>98.0</td>\n",
       "      <td>178.0</td>\n",
       "      <td>31.0</td>\n",
       "      <td>0.0</td>\n",
       "    </tr>\n",
       "    <tr>\n",
       "      <th>2</th>\n",
       "      <td>3</td>\n",
       "      <td>23.0</td>\n",
       "      <td>7.0</td>\n",
       "      <td>4</td>\n",
       "      <td>1</td>\n",
       "      <td>179.0</td>\n",
       "      <td>51.0</td>\n",
       "      <td>18.0</td>\n",
       "      <td>38.0</td>\n",
       "      <td>239554.0</td>\n",
       "      <td>...</td>\n",
       "      <td>0.0</td>\n",
       "      <td>1.0</td>\n",
       "      <td>0.0</td>\n",
       "      <td>1.0</td>\n",
       "      <td>0.0</td>\n",
       "      <td>0.0</td>\n",
       "      <td>89.0</td>\n",
       "      <td>170.0</td>\n",
       "      <td>31.0</td>\n",
       "      <td>2.0</td>\n",
       "    </tr>\n",
       "    <tr>\n",
       "      <th>3</th>\n",
       "      <td>7</td>\n",
       "      <td>7.0</td>\n",
       "      <td>7.0</td>\n",
       "      <td>5</td>\n",
       "      <td>1</td>\n",
       "      <td>279.0</td>\n",
       "      <td>5.0</td>\n",
       "      <td>14.0</td>\n",
       "      <td>39.0</td>\n",
       "      <td>239554.0</td>\n",
       "      <td>...</td>\n",
       "      <td>0.0</td>\n",
       "      <td>1.0</td>\n",
       "      <td>2.0</td>\n",
       "      <td>1.0</td>\n",
       "      <td>1.0</td>\n",
       "      <td>0.0</td>\n",
       "      <td>68.0</td>\n",
       "      <td>168.0</td>\n",
       "      <td>24.0</td>\n",
       "      <td>4.0</td>\n",
       "    </tr>\n",
       "    <tr>\n",
       "      <th>4</th>\n",
       "      <td>11</td>\n",
       "      <td>23.0</td>\n",
       "      <td>7.0</td>\n",
       "      <td>5</td>\n",
       "      <td>1</td>\n",
       "      <td>289.0</td>\n",
       "      <td>36.0</td>\n",
       "      <td>13.0</td>\n",
       "      <td>33.0</td>\n",
       "      <td>239554.0</td>\n",
       "      <td>...</td>\n",
       "      <td>0.0</td>\n",
       "      <td>1.0</td>\n",
       "      <td>2.0</td>\n",
       "      <td>1.0</td>\n",
       "      <td>0.0</td>\n",
       "      <td>1.0</td>\n",
       "      <td>90.0</td>\n",
       "      <td>172.0</td>\n",
       "      <td>30.0</td>\n",
       "      <td>2.0</td>\n",
       "    </tr>\n",
       "  </tbody>\n",
       "</table>\n",
       "<p>5 rows × 21 columns</p>\n",
       "</div>"
      ],
      "text/plain": [
       "   ID  Reason for absence  Month of absence  Day of the week  Seasons  \\\n",
       "0  11                26.0               7.0                3        1   \n",
       "1  36                 0.0               7.0                3        1   \n",
       "2   3                23.0               7.0                4        1   \n",
       "3   7                 7.0               7.0                5        1   \n",
       "4  11                23.0               7.0                5        1   \n",
       "\n",
       "   Transportation expense  Distance from Residence to Work  Service time  \\\n",
       "0                   289.0                             36.0          13.0   \n",
       "1                   118.0                             13.0          18.0   \n",
       "2                   179.0                             51.0          18.0   \n",
       "3                   279.0                              5.0          14.0   \n",
       "4                   289.0                             36.0          13.0   \n",
       "\n",
       "    Age  Work load Average/day             ...              \\\n",
       "0  33.0                239554.0            ...               \n",
       "1  50.0                239554.0            ...               \n",
       "2  38.0                239554.0            ...               \n",
       "3  39.0                239554.0            ...               \n",
       "4  33.0                239554.0            ...               \n",
       "\n",
       "   Disciplinary failure  Education  Son  Social drinker  Social smoker  Pet  \\\n",
       "0                   0.0        1.0  2.0             1.0            0.0  1.0   \n",
       "1                   1.0        1.0  1.0             1.0            0.0  0.0   \n",
       "2                   0.0        1.0  0.0             1.0            0.0  0.0   \n",
       "3                   0.0        1.0  2.0             1.0            1.0  0.0   \n",
       "4                   0.0        1.0  2.0             1.0            0.0  1.0   \n",
       "\n",
       "   Weight  Height  Body mass index  Absenteeism time in hours  \n",
       "0    90.0   172.0             30.0                        4.0  \n",
       "1    98.0   178.0             31.0                        0.0  \n",
       "2    89.0   170.0             31.0                        2.0  \n",
       "3    68.0   168.0             24.0                        4.0  \n",
       "4    90.0   172.0             30.0                        2.0  \n",
       "\n",
       "[5 rows x 21 columns]"
      ]
     },
     "execution_count": 5,
     "metadata": {},
     "output_type": "execute_result"
    }
   ],
   "source": [
    "Employee_abs.head()"
   ]
  },
  {
   "cell_type": "code",
   "execution_count": 6,
   "metadata": {},
   "outputs": [
    {
     "data": {
      "text/plain": [
       "(740, 21)"
      ]
     },
     "execution_count": 6,
     "metadata": {},
     "output_type": "execute_result"
    }
   ],
   "source": [
    "Employee_abs.shape"
   ]
  },
  {
   "cell_type": "code",
   "execution_count": 7,
   "metadata": {},
   "outputs": [],
   "source": [
    "#Replacing spaces from columns name with underscore\n",
    "Employee_abs.columns = Employee_abs.columns.str.replace(\" \",\"_\")\n",
    "Employee_abs.columns = Employee_abs.columns.str.replace(\"/\",\"_\")"
   ]
  },
  {
   "cell_type": "code",
   "execution_count": 8,
   "metadata": {},
   "outputs": [
    {
     "name": "stdout",
     "output_type": "stream",
     "text": [
      "<class 'pandas.core.frame.DataFrame'>\n",
      "RangeIndex: 740 entries, 0 to 739\n",
      "Data columns (total 21 columns):\n",
      "ID                                 740 non-null int64\n",
      "Reason_for_absence                 737 non-null float64\n",
      "Month_of_absence                   739 non-null float64\n",
      "Day_of_the_week                    740 non-null int64\n",
      "Seasons                            740 non-null int64\n",
      "Transportation_expense             733 non-null float64\n",
      "Distance_from_Residence_to_Work    737 non-null float64\n",
      "Service_time                       737 non-null float64\n",
      "Age                                737 non-null float64\n",
      "Work_load_Average_day_             730 non-null float64\n",
      "Hit_target                         734 non-null float64\n",
      "Disciplinary_failure               734 non-null float64\n",
      "Education                          730 non-null float64\n",
      "Son                                734 non-null float64\n",
      "Social_drinker                     737 non-null float64\n",
      "Social_smoker                      736 non-null float64\n",
      "Pet                                738 non-null float64\n",
      "Weight                             739 non-null float64\n",
      "Height                             726 non-null float64\n",
      "Body_mass_index                    709 non-null float64\n",
      "Absenteeism_time_in_hours          718 non-null float64\n",
      "dtypes: float64(18), int64(3)\n",
      "memory usage: 121.5 KB\n"
     ]
    }
   ],
   "source": [
    "Employee_abs.info()"
   ]
  },
  {
   "cell_type": "code",
   "execution_count": 9,
   "metadata": {},
   "outputs": [
    {
     "data": {
      "text/html": [
       "<div>\n",
       "<style scoped>\n",
       "    .dataframe tbody tr th:only-of-type {\n",
       "        vertical-align: middle;\n",
       "    }\n",
       "\n",
       "    .dataframe tbody tr th {\n",
       "        vertical-align: top;\n",
       "    }\n",
       "\n",
       "    .dataframe thead th {\n",
       "        text-align: right;\n",
       "    }\n",
       "</style>\n",
       "<table border=\"1\" class=\"dataframe\">\n",
       "  <thead>\n",
       "    <tr style=\"text-align: right;\">\n",
       "      <th></th>\n",
       "      <th>ID</th>\n",
       "      <th>Reason_for_absence</th>\n",
       "      <th>Month_of_absence</th>\n",
       "      <th>Day_of_the_week</th>\n",
       "      <th>Seasons</th>\n",
       "      <th>Transportation_expense</th>\n",
       "      <th>Distance_from_Residence_to_Work</th>\n",
       "      <th>Service_time</th>\n",
       "      <th>Age</th>\n",
       "      <th>Work_load_Average_day_</th>\n",
       "      <th>...</th>\n",
       "      <th>Disciplinary_failure</th>\n",
       "      <th>Education</th>\n",
       "      <th>Son</th>\n",
       "      <th>Social_drinker</th>\n",
       "      <th>Social_smoker</th>\n",
       "      <th>Pet</th>\n",
       "      <th>Weight</th>\n",
       "      <th>Height</th>\n",
       "      <th>Body_mass_index</th>\n",
       "      <th>Absenteeism_time_in_hours</th>\n",
       "    </tr>\n",
       "  </thead>\n",
       "  <tbody>\n",
       "    <tr>\n",
       "      <th>count</th>\n",
       "      <td>740.000000</td>\n",
       "      <td>737.000000</td>\n",
       "      <td>739.000000</td>\n",
       "      <td>740.000000</td>\n",
       "      <td>740.000000</td>\n",
       "      <td>733.000000</td>\n",
       "      <td>737.000000</td>\n",
       "      <td>737.000000</td>\n",
       "      <td>737.000000</td>\n",
       "      <td>730.000000</td>\n",
       "      <td>...</td>\n",
       "      <td>734.000000</td>\n",
       "      <td>730.000000</td>\n",
       "      <td>734.000000</td>\n",
       "      <td>737.000000</td>\n",
       "      <td>736.000000</td>\n",
       "      <td>738.000000</td>\n",
       "      <td>739.000000</td>\n",
       "      <td>726.000000</td>\n",
       "      <td>709.000000</td>\n",
       "      <td>718.000000</td>\n",
       "    </tr>\n",
       "    <tr>\n",
       "      <th>mean</th>\n",
       "      <td>18.017568</td>\n",
       "      <td>19.188602</td>\n",
       "      <td>6.319350</td>\n",
       "      <td>3.914865</td>\n",
       "      <td>2.544595</td>\n",
       "      <td>221.035471</td>\n",
       "      <td>29.667571</td>\n",
       "      <td>12.565807</td>\n",
       "      <td>36.449118</td>\n",
       "      <td>271188.860274</td>\n",
       "      <td>...</td>\n",
       "      <td>0.053134</td>\n",
       "      <td>1.295890</td>\n",
       "      <td>1.017711</td>\n",
       "      <td>0.567164</td>\n",
       "      <td>0.073370</td>\n",
       "      <td>0.746612</td>\n",
       "      <td>79.063599</td>\n",
       "      <td>172.152893</td>\n",
       "      <td>26.684062</td>\n",
       "      <td>6.977716</td>\n",
       "    </tr>\n",
       "    <tr>\n",
       "      <th>std</th>\n",
       "      <td>11.021247</td>\n",
       "      <td>8.437493</td>\n",
       "      <td>3.435948</td>\n",
       "      <td>1.421675</td>\n",
       "      <td>1.111831</td>\n",
       "      <td>66.954179</td>\n",
       "      <td>14.848124</td>\n",
       "      <td>4.389813</td>\n",
       "      <td>6.480148</td>\n",
       "      <td>38981.880873</td>\n",
       "      <td>...</td>\n",
       "      <td>0.224453</td>\n",
       "      <td>0.676965</td>\n",
       "      <td>1.094928</td>\n",
       "      <td>0.495805</td>\n",
       "      <td>0.260919</td>\n",
       "      <td>1.319726</td>\n",
       "      <td>12.868630</td>\n",
       "      <td>6.081065</td>\n",
       "      <td>4.292819</td>\n",
       "      <td>13.476962</td>\n",
       "    </tr>\n",
       "    <tr>\n",
       "      <th>min</th>\n",
       "      <td>1.000000</td>\n",
       "      <td>0.000000</td>\n",
       "      <td>0.000000</td>\n",
       "      <td>2.000000</td>\n",
       "      <td>1.000000</td>\n",
       "      <td>118.000000</td>\n",
       "      <td>5.000000</td>\n",
       "      <td>1.000000</td>\n",
       "      <td>27.000000</td>\n",
       "      <td>205917.000000</td>\n",
       "      <td>...</td>\n",
       "      <td>0.000000</td>\n",
       "      <td>1.000000</td>\n",
       "      <td>0.000000</td>\n",
       "      <td>0.000000</td>\n",
       "      <td>0.000000</td>\n",
       "      <td>0.000000</td>\n",
       "      <td>56.000000</td>\n",
       "      <td>163.000000</td>\n",
       "      <td>19.000000</td>\n",
       "      <td>0.000000</td>\n",
       "    </tr>\n",
       "    <tr>\n",
       "      <th>25%</th>\n",
       "      <td>9.000000</td>\n",
       "      <td>13.000000</td>\n",
       "      <td>3.000000</td>\n",
       "      <td>3.000000</td>\n",
       "      <td>2.000000</td>\n",
       "      <td>179.000000</td>\n",
       "      <td>16.000000</td>\n",
       "      <td>9.000000</td>\n",
       "      <td>31.000000</td>\n",
       "      <td>244387.000000</td>\n",
       "      <td>...</td>\n",
       "      <td>0.000000</td>\n",
       "      <td>1.000000</td>\n",
       "      <td>0.000000</td>\n",
       "      <td>0.000000</td>\n",
       "      <td>0.000000</td>\n",
       "      <td>0.000000</td>\n",
       "      <td>69.000000</td>\n",
       "      <td>169.000000</td>\n",
       "      <td>24.000000</td>\n",
       "      <td>2.000000</td>\n",
       "    </tr>\n",
       "    <tr>\n",
       "      <th>50%</th>\n",
       "      <td>18.000000</td>\n",
       "      <td>23.000000</td>\n",
       "      <td>6.000000</td>\n",
       "      <td>4.000000</td>\n",
       "      <td>3.000000</td>\n",
       "      <td>225.000000</td>\n",
       "      <td>26.000000</td>\n",
       "      <td>13.000000</td>\n",
       "      <td>37.000000</td>\n",
       "      <td>264249.000000</td>\n",
       "      <td>...</td>\n",
       "      <td>0.000000</td>\n",
       "      <td>1.000000</td>\n",
       "      <td>1.000000</td>\n",
       "      <td>1.000000</td>\n",
       "      <td>0.000000</td>\n",
       "      <td>0.000000</td>\n",
       "      <td>83.000000</td>\n",
       "      <td>170.000000</td>\n",
       "      <td>25.000000</td>\n",
       "      <td>3.000000</td>\n",
       "    </tr>\n",
       "    <tr>\n",
       "      <th>75%</th>\n",
       "      <td>28.000000</td>\n",
       "      <td>26.000000</td>\n",
       "      <td>9.000000</td>\n",
       "      <td>5.000000</td>\n",
       "      <td>4.000000</td>\n",
       "      <td>260.000000</td>\n",
       "      <td>50.000000</td>\n",
       "      <td>16.000000</td>\n",
       "      <td>40.000000</td>\n",
       "      <td>284853.000000</td>\n",
       "      <td>...</td>\n",
       "      <td>0.000000</td>\n",
       "      <td>1.000000</td>\n",
       "      <td>2.000000</td>\n",
       "      <td>1.000000</td>\n",
       "      <td>0.000000</td>\n",
       "      <td>1.000000</td>\n",
       "      <td>89.000000</td>\n",
       "      <td>172.000000</td>\n",
       "      <td>31.000000</td>\n",
       "      <td>8.000000</td>\n",
       "    </tr>\n",
       "    <tr>\n",
       "      <th>max</th>\n",
       "      <td>36.000000</td>\n",
       "      <td>28.000000</td>\n",
       "      <td>12.000000</td>\n",
       "      <td>6.000000</td>\n",
       "      <td>4.000000</td>\n",
       "      <td>388.000000</td>\n",
       "      <td>52.000000</td>\n",
       "      <td>29.000000</td>\n",
       "      <td>58.000000</td>\n",
       "      <td>378884.000000</td>\n",
       "      <td>...</td>\n",
       "      <td>1.000000</td>\n",
       "      <td>4.000000</td>\n",
       "      <td>4.000000</td>\n",
       "      <td>1.000000</td>\n",
       "      <td>1.000000</td>\n",
       "      <td>8.000000</td>\n",
       "      <td>108.000000</td>\n",
       "      <td>196.000000</td>\n",
       "      <td>38.000000</td>\n",
       "      <td>120.000000</td>\n",
       "    </tr>\n",
       "  </tbody>\n",
       "</table>\n",
       "<p>8 rows × 21 columns</p>\n",
       "</div>"
      ],
      "text/plain": [
       "               ID  Reason_for_absence  Month_of_absence  Day_of_the_week  \\\n",
       "count  740.000000          737.000000        739.000000       740.000000   \n",
       "mean    18.017568           19.188602          6.319350         3.914865   \n",
       "std     11.021247            8.437493          3.435948         1.421675   \n",
       "min      1.000000            0.000000          0.000000         2.000000   \n",
       "25%      9.000000           13.000000          3.000000         3.000000   \n",
       "50%     18.000000           23.000000          6.000000         4.000000   \n",
       "75%     28.000000           26.000000          9.000000         5.000000   \n",
       "max     36.000000           28.000000         12.000000         6.000000   \n",
       "\n",
       "          Seasons  Transportation_expense  Distance_from_Residence_to_Work  \\\n",
       "count  740.000000              733.000000                       737.000000   \n",
       "mean     2.544595              221.035471                        29.667571   \n",
       "std      1.111831               66.954179                        14.848124   \n",
       "min      1.000000              118.000000                         5.000000   \n",
       "25%      2.000000              179.000000                        16.000000   \n",
       "50%      3.000000              225.000000                        26.000000   \n",
       "75%      4.000000              260.000000                        50.000000   \n",
       "max      4.000000              388.000000                        52.000000   \n",
       "\n",
       "       Service_time         Age  Work_load_Average_day_  \\\n",
       "count    737.000000  737.000000              730.000000   \n",
       "mean      12.565807   36.449118           271188.860274   \n",
       "std        4.389813    6.480148            38981.880873   \n",
       "min        1.000000   27.000000           205917.000000   \n",
       "25%        9.000000   31.000000           244387.000000   \n",
       "50%       13.000000   37.000000           264249.000000   \n",
       "75%       16.000000   40.000000           284853.000000   \n",
       "max       29.000000   58.000000           378884.000000   \n",
       "\n",
       "                 ...              Disciplinary_failure   Education  \\\n",
       "count            ...                        734.000000  730.000000   \n",
       "mean             ...                          0.053134    1.295890   \n",
       "std              ...                          0.224453    0.676965   \n",
       "min              ...                          0.000000    1.000000   \n",
       "25%              ...                          0.000000    1.000000   \n",
       "50%              ...                          0.000000    1.000000   \n",
       "75%              ...                          0.000000    1.000000   \n",
       "max              ...                          1.000000    4.000000   \n",
       "\n",
       "              Son  Social_drinker  Social_smoker         Pet      Weight  \\\n",
       "count  734.000000      737.000000     736.000000  738.000000  739.000000   \n",
       "mean     1.017711        0.567164       0.073370    0.746612   79.063599   \n",
       "std      1.094928        0.495805       0.260919    1.319726   12.868630   \n",
       "min      0.000000        0.000000       0.000000    0.000000   56.000000   \n",
       "25%      0.000000        0.000000       0.000000    0.000000   69.000000   \n",
       "50%      1.000000        1.000000       0.000000    0.000000   83.000000   \n",
       "75%      2.000000        1.000000       0.000000    1.000000   89.000000   \n",
       "max      4.000000        1.000000       1.000000    8.000000  108.000000   \n",
       "\n",
       "           Height  Body_mass_index  Absenteeism_time_in_hours  \n",
       "count  726.000000       709.000000                 718.000000  \n",
       "mean   172.152893        26.684062                   6.977716  \n",
       "std      6.081065         4.292819                  13.476962  \n",
       "min    163.000000        19.000000                   0.000000  \n",
       "25%    169.000000        24.000000                   2.000000  \n",
       "50%    170.000000        25.000000                   3.000000  \n",
       "75%    172.000000        31.000000                   8.000000  \n",
       "max    196.000000        38.000000                 120.000000  \n",
       "\n",
       "[8 rows x 21 columns]"
      ]
     },
     "execution_count": 9,
     "metadata": {},
     "output_type": "execute_result"
    }
   ],
   "source": [
    "Employee_abs.describe()\n"
   ]
  },
  {
   "cell_type": "code",
   "execution_count": 10,
   "metadata": {},
   "outputs": [
    {
     "data": {
      "text/plain": [
       "ID                                 36\n",
       "Reason_for_absence                 28\n",
       "Month_of_absence                   13\n",
       "Day_of_the_week                     5\n",
       "Seasons                             4\n",
       "Transportation_expense             24\n",
       "Distance_from_Residence_to_Work    25\n",
       "Service_time                       18\n",
       "Age                                22\n",
       "Work_load_Average_day_             38\n",
       "Hit_target                         13\n",
       "Disciplinary_failure                2\n",
       "Education                           4\n",
       "Son                                 5\n",
       "Social_drinker                      2\n",
       "Social_smoker                       2\n",
       "Pet                                 6\n",
       "Weight                             26\n",
       "Height                             14\n",
       "Body_mass_index                    17\n",
       "Absenteeism_time_in_hours          19\n",
       "dtype: int64"
      ]
     },
     "execution_count": 10,
     "metadata": {},
     "output_type": "execute_result"
    }
   ],
   "source": [
    "Employee_abs.nunique()"
   ]
  },
  {
   "cell_type": "code",
   "execution_count": 11,
   "metadata": {},
   "outputs": [],
   "source": [
    "#Droping ID column as it will not be of any help in our analysis\n",
    "Employee_abs=Employee_abs.drop(\"ID\",axis=1)"
   ]
  },
  {
   "cell_type": "code",
   "execution_count": 12,
   "metadata": {},
   "outputs": [],
   "source": [
    "#as Month column can contain maximum 12 values so replacing 0 with NA\n",
    "Employee_abs[\"Month_of_absence\"]=Employee_abs[\"Month_of_absence\"].replace(0,np.nan)"
   ]
  },
  {
   "cell_type": "code",
   "execution_count": 13,
   "metadata": {},
   "outputs": [],
   "source": [
    "# Dividing Work_load_Average/day_ by 1000 (As said by the support team)\n",
    "Employee_abs['Work_load_Average_day_'] = Employee_abs['Work_load_Average_day_']/1000"
   ]
  },
  {
   "cell_type": "code",
   "execution_count": 14,
   "metadata": {},
   "outputs": [
    {
     "data": {
      "text/plain": [
       "Index(['Reason_for_absence', 'Month_of_absence', 'Day_of_the_week', 'Seasons',\n",
       "       'Transportation_expense', 'Distance_from_Residence_to_Work',\n",
       "       'Service_time', 'Age', 'Work_load_Average_day_', 'Hit_target',\n",
       "       'Disciplinary_failure', 'Education', 'Son', 'Social_drinker',\n",
       "       'Social_smoker', 'Pet', 'Weight', 'Height', 'Body_mass_index',\n",
       "       'Absenteeism_time_in_hours'],\n",
       "      dtype='object')"
      ]
     },
     "execution_count": 14,
     "metadata": {},
     "output_type": "execute_result"
    }
   ],
   "source": [
    "Employee_abs.columns"
   ]
  },
  {
   "cell_type": "code",
   "execution_count": 15,
   "metadata": {},
   "outputs": [],
   "source": [
    "cnames=['Transportation_expense','Distance_from_Residence_to_Work','Service_time','Age','Work_load_Average_day_', \n",
    "        'Hit_target','Weight', 'Height', 'Body_mass_index',\n",
    "       'Absenteeism_time_in_hours']\n",
    "cat_cnames= ['Reason_for_absence', 'Month_of_absence', 'Day_of_the_week', 'Seasons',\n",
    "             'Disciplinary_failure', 'Education', 'Son', 'Social_drinker','Social_smoker', 'Pet']"
   ]
  },
  {
   "cell_type": "markdown",
   "metadata": {},
   "source": [
    "# Data Pre Processing \n",
    "# Missing value Analysis:-\n"
   ]
  },
  {
   "cell_type": "code",
   "execution_count": 16,
   "metadata": {},
   "outputs": [
    {
     "data": {
      "text/plain": [
       "Reason_for_absence                  3\n",
       "Month_of_absence                    4\n",
       "Day_of_the_week                     0\n",
       "Seasons                             0\n",
       "Transportation_expense              7\n",
       "Distance_from_Residence_to_Work     3\n",
       "Service_time                        3\n",
       "Age                                 3\n",
       "Work_load_Average_day_             10\n",
       "Hit_target                          6\n",
       "Disciplinary_failure                6\n",
       "Education                          10\n",
       "Son                                 6\n",
       "Social_drinker                      3\n",
       "Social_smoker                       4\n",
       "Pet                                 2\n",
       "Weight                              1\n",
       "Height                             14\n",
       "Body_mass_index                    31\n",
       "Absenteeism_time_in_hours          22\n",
       "dtype: int64"
      ]
     },
     "execution_count": 16,
     "metadata": {},
     "output_type": "execute_result"
    }
   ],
   "source": [
    "#Missing values in each variable-\n",
    "Employee_abs.isnull().sum()"
   ]
  },
  {
   "cell_type": "code",
   "execution_count": 17,
   "metadata": {},
   "outputs": [
    {
     "name": "stdout",
     "output_type": "stream",
     "text": [
      "(718, 20)\n"
     ]
    }
   ],
   "source": [
    "# Droping observation in which \"Absenteeism time in hours\" has missing value-\n",
    "Employee_abs= Employee_abs.drop(Employee_abs[Employee_abs['Absenteeism_time_in_hours'].isnull()].index, axis=0)\n",
    "print(Employee_abs.shape)\n"
   ]
  },
  {
   "cell_type": "code",
   "execution_count": 18,
   "metadata": {},
   "outputs": [],
   "source": [
    "##Missing value analysis-\n",
    "\n",
    "#Creat dataframe with missing value present in each variable-\n",
    "\n",
    "missing_value= pd.DataFrame(Employee_abs.isnull().sum()).reset_index()\n",
    "\n",
    "#Rename variable-\n",
    "missing_value= missing_value.rename(columns={'index':'variable',0:'missing_precentage'})\n",
    "\n",
    "#Missing value precentage-\n",
    "missing_value['missing_precentage']= (missing_value['missing_precentage']/len(Employee_abs))*100\n",
    "\n",
    "#Sorting missing value-\n",
    "missing_value= missing_value.sort_values('missing_precentage',ascending=False).reset_index(drop=True)\n",
    "\n",
    "#Write missing data into drive-\n",
    "missing_value.to_csv(\"missing_value.csv\",index=False)"
   ]
  },
  {
   "cell_type": "code",
   "execution_count": 19,
   "metadata": {},
   "outputs": [
    {
     "data": {
      "text/html": [
       "<div>\n",
       "<style scoped>\n",
       "    .dataframe tbody tr th:only-of-type {\n",
       "        vertical-align: middle;\n",
       "    }\n",
       "\n",
       "    .dataframe tbody tr th {\n",
       "        vertical-align: top;\n",
       "    }\n",
       "\n",
       "    .dataframe thead th {\n",
       "        text-align: right;\n",
       "    }\n",
       "</style>\n",
       "<table border=\"1\" class=\"dataframe\">\n",
       "  <thead>\n",
       "    <tr style=\"text-align: right;\">\n",
       "      <th></th>\n",
       "      <th>variable</th>\n",
       "      <th>missing_precentage</th>\n",
       "    </tr>\n",
       "  </thead>\n",
       "  <tbody>\n",
       "    <tr>\n",
       "      <th>0</th>\n",
       "      <td>Body_mass_index</td>\n",
       "      <td>4.038997</td>\n",
       "    </tr>\n",
       "    <tr>\n",
       "      <th>1</th>\n",
       "      <td>Height</td>\n",
       "      <td>1.949861</td>\n",
       "    </tr>\n",
       "    <tr>\n",
       "      <th>2</th>\n",
       "      <td>Education</td>\n",
       "      <td>1.392758</td>\n",
       "    </tr>\n",
       "    <tr>\n",
       "      <th>3</th>\n",
       "      <td>Work_load_Average_day_</td>\n",
       "      <td>1.114206</td>\n",
       "    </tr>\n",
       "    <tr>\n",
       "      <th>4</th>\n",
       "      <td>Transportation_expense</td>\n",
       "      <td>0.835655</td>\n",
       "    </tr>\n",
       "    <tr>\n",
       "      <th>5</th>\n",
       "      <td>Son</td>\n",
       "      <td>0.835655</td>\n",
       "    </tr>\n",
       "    <tr>\n",
       "      <th>6</th>\n",
       "      <td>Hit_target</td>\n",
       "      <td>0.835655</td>\n",
       "    </tr>\n",
       "    <tr>\n",
       "      <th>7</th>\n",
       "      <td>Disciplinary_failure</td>\n",
       "      <td>0.696379</td>\n",
       "    </tr>\n",
       "    <tr>\n",
       "      <th>8</th>\n",
       "      <td>Social_smoker</td>\n",
       "      <td>0.557103</td>\n",
       "    </tr>\n",
       "    <tr>\n",
       "      <th>9</th>\n",
       "      <td>Month_of_absence</td>\n",
       "      <td>0.557103</td>\n",
       "    </tr>\n",
       "    <tr>\n",
       "      <th>10</th>\n",
       "      <td>Social_drinker</td>\n",
       "      <td>0.417827</td>\n",
       "    </tr>\n",
       "    <tr>\n",
       "      <th>11</th>\n",
       "      <td>Reason_for_absence</td>\n",
       "      <td>0.417827</td>\n",
       "    </tr>\n",
       "    <tr>\n",
       "      <th>12</th>\n",
       "      <td>Service_time</td>\n",
       "      <td>0.417827</td>\n",
       "    </tr>\n",
       "    <tr>\n",
       "      <th>13</th>\n",
       "      <td>Distance_from_Residence_to_Work</td>\n",
       "      <td>0.417827</td>\n",
       "    </tr>\n",
       "    <tr>\n",
       "      <th>14</th>\n",
       "      <td>Age</td>\n",
       "      <td>0.278552</td>\n",
       "    </tr>\n",
       "    <tr>\n",
       "      <th>15</th>\n",
       "      <td>Pet</td>\n",
       "      <td>0.278552</td>\n",
       "    </tr>\n",
       "    <tr>\n",
       "      <th>16</th>\n",
       "      <td>Weight</td>\n",
       "      <td>0.139276</td>\n",
       "    </tr>\n",
       "    <tr>\n",
       "      <th>17</th>\n",
       "      <td>Seasons</td>\n",
       "      <td>0.000000</td>\n",
       "    </tr>\n",
       "    <tr>\n",
       "      <th>18</th>\n",
       "      <td>Day_of_the_week</td>\n",
       "      <td>0.000000</td>\n",
       "    </tr>\n",
       "    <tr>\n",
       "      <th>19</th>\n",
       "      <td>Absenteeism_time_in_hours</td>\n",
       "      <td>0.000000</td>\n",
       "    </tr>\n",
       "  </tbody>\n",
       "</table>\n",
       "</div>"
      ],
      "text/plain": [
       "                           variable  missing_precentage\n",
       "0                   Body_mass_index            4.038997\n",
       "1                            Height            1.949861\n",
       "2                         Education            1.392758\n",
       "3            Work_load_Average_day_            1.114206\n",
       "4            Transportation_expense            0.835655\n",
       "5                               Son            0.835655\n",
       "6                        Hit_target            0.835655\n",
       "7              Disciplinary_failure            0.696379\n",
       "8                     Social_smoker            0.557103\n",
       "9                  Month_of_absence            0.557103\n",
       "10                   Social_drinker            0.417827\n",
       "11               Reason_for_absence            0.417827\n",
       "12                     Service_time            0.417827\n",
       "13  Distance_from_Residence_to_Work            0.417827\n",
       "14                              Age            0.278552\n",
       "15                              Pet            0.278552\n",
       "16                           Weight            0.139276\n",
       "17                          Seasons            0.000000\n",
       "18                  Day_of_the_week            0.000000\n",
       "19        Absenteeism_time_in_hours            0.000000"
      ]
     },
     "execution_count": 19,
     "metadata": {},
     "output_type": "execute_result"
    }
   ],
   "source": [
    "missing_value"
   ]
  },
  {
   "cell_type": "code",
   "execution_count": 20,
   "metadata": {},
   "outputs": [
    {
     "data": {
      "text/plain": [
       "([0, 1, 2, 3, 4, 5, 6, 7, 8, 9, 10, 11, 12, 13, 14, 15, 16, 17, 18, 19],\n",
       " <a list of 20 Text xticklabel objects>)"
      ]
     },
     "execution_count": 20,
     "metadata": {},
     "output_type": "execute_result"
    },
    {
     "data": {
      "image/png": "[encoded data removed]",
      "text/plain": [
       "<Figure size 432x288 with 1 Axes>"
      ]
     },
     "metadata": {
      "needs_background": "light"
     },
     "output_type": "display_data"
    }
   ],
   "source": [
    "#Missing value analysis by visualization-\n",
    "plt.bar(missing_value['variable'],missing_value['missing_precentage'])\n",
    "plt.ylabel('Missing Value %')\n",
    "plt.title('Missing Value Analysis')\n",
    "plt.savefig('missing_value.pdf')\n",
    "plt.xticks(rotation=90)"
   ]
  },
  {
   "cell_type": "code",
   "execution_count": 21,
   "metadata": {},
   "outputs": [
    {
     "name": "stdout",
     "output_type": "stream",
     "text": [
      "Reason_for_absence\n",
      "0      26.0\n",
      "1       0.0\n",
      "2      23.0\n",
      "3       7.0\n",
      "4      23.0\n",
      "6      22.0\n",
      "7      23.0\n",
      "8      19.0\n",
      "9      22.0\n",
      "10      1.0\n",
      "11      1.0\n",
      "12     11.0\n",
      "13     11.0\n",
      "14     23.0\n",
      "16     23.0\n",
      "17     21.0\n",
      "18     11.0\n",
      "19     23.0\n",
      "21     11.0\n",
      "22     13.0\n",
      "23     28.0\n",
      "24     18.0\n",
      "25     25.0\n",
      "26     23.0\n",
      "27     28.0\n",
      "28     18.0\n",
      "29     23.0\n",
      "30     18.0\n",
      "31     18.0\n",
      "32     23.0\n",
      "       ... \n",
      "710    22.0\n",
      "711    19.0\n",
      "712    19.0\n",
      "713    27.0\n",
      "714     0.0\n",
      "715     0.0\n",
      "716    19.0\n",
      "717    13.0\n",
      "718    28.0\n",
      "719    13.0\n",
      "720    25.0\n",
      "721    22.0\n",
      "722     8.0\n",
      "723    10.0\n",
      "724    22.0\n",
      "725    26.0\n",
      "726    19.0\n",
      "727     6.0\n",
      "728    28.0\n",
      "729     6.0\n",
      "730    22.0\n",
      "731    23.0\n",
      "732    22.0\n",
      "733    22.0\n",
      "734    13.0\n",
      "735    14.0\n",
      "736    11.0\n",
      "737     0.0\n",
      "738     0.0\n",
      "739     0.0\n",
      "Name: Reason_for_absence, Length: 718, dtype: float64\n",
      "Month_of_absence\n",
      "0      7.0\n",
      "1      7.0\n",
      "2      7.0\n",
      "3      7.0\n",
      "4      7.0\n",
      "6      7.0\n",
      "7      7.0\n",
      "8      7.0\n",
      "9      7.0\n",
      "10     7.0\n",
      "11     7.0\n",
      "12     7.0\n",
      "13     7.0\n",
      "14     7.0\n",
      "16     7.0\n",
      "17     7.0\n",
      "18     7.0\n",
      "19     8.0\n",
      "21     8.0\n",
      "22     8.0\n",
      "23     8.0\n",
      "24     8.0\n",
      "25     8.0\n",
      "26     8.0\n",
      "27     8.0\n",
      "28     8.0\n",
      "29     8.0\n",
      "30     8.0\n",
      "31     8.0\n",
      "32     8.0\n",
      "      ... \n",
      "710    6.0\n",
      "711    6.0\n",
      "712    6.0\n",
      "713    6.0\n",
      "714    6.0\n",
      "715    6.0\n",
      "716    6.0\n",
      "717    6.0\n",
      "718    6.0\n",
      "719    6.0\n",
      "720    6.0\n",
      "721    6.0\n",
      "722    6.0\n",
      "723    6.0\n",
      "724    6.0\n",
      "725    7.0\n",
      "726    7.0\n",
      "727    7.0\n",
      "728    7.0\n",
      "729    7.0\n",
      "730    7.0\n",
      "731    7.0\n",
      "732    7.0\n",
      "733    7.0\n",
      "734    7.0\n",
      "735    7.0\n",
      "736    7.0\n",
      "737    3.0\n",
      "738    3.0\n",
      "739    3.0\n",
      "Name: Month_of_absence, Length: 718, dtype: float64\n",
      "Day_of_the_week\n",
      "0      3\n",
      "1      3\n",
      "2      4\n",
      "3      5\n",
      "4      5\n",
      "6      6\n",
      "7      6\n",
      "8      2\n",
      "9      2\n",
      "10     2\n",
      "11     3\n",
      "12     4\n",
      "13     4\n",
      "14     4\n",
      "16     6\n",
      "17     2\n",
      "18     5\n",
      "19     4\n",
      "21     2\n",
      "22     2\n",
      "23     6\n",
      "24     2\n",
      "25     2\n",
      "26     3\n",
      "27     4\n",
      "28     4\n",
      "29     6\n",
      "30     2\n",
      "31     5\n",
      "32     5\n",
      "      ..\n",
      "710    5\n",
      "711    5\n",
      "712    6\n",
      "713    6\n",
      "714    2\n",
      "715    2\n",
      "716    5\n",
      "717    5\n",
      "718    5\n",
      "719    2\n",
      "720    2\n",
      "721    5\n",
      "722    6\n",
      "723    4\n",
      "724    4\n",
      "725    4\n",
      "726    6\n",
      "727    2\n",
      "728    2\n",
      "729    3\n",
      "730    3\n",
      "731    4\n",
      "732    4\n",
      "733    4\n",
      "734    2\n",
      "735    3\n",
      "736    3\n",
      "737    3\n",
      "738    4\n",
      "739    6\n",
      "Name: Day_of_the_week, Length: 718, dtype: int64\n",
      "Seasons\n",
      "0      1\n",
      "1      1\n",
      "2      1\n",
      "3      1\n",
      "4      1\n",
      "6      1\n",
      "7      1\n",
      "8      1\n",
      "9      1\n",
      "10     1\n",
      "11     1\n",
      "12     1\n",
      "13     1\n",
      "14     1\n",
      "16     1\n",
      "17     1\n",
      "18     1\n",
      "19     1\n",
      "21     1\n",
      "22     1\n",
      "23     1\n",
      "24     1\n",
      "25     1\n",
      "26     1\n",
      "27     1\n",
      "28     1\n",
      "29     1\n",
      "30     1\n",
      "31     1\n",
      "32     1\n",
      "      ..\n",
      "710    3\n",
      "711    3\n",
      "712    3\n",
      "713    3\n",
      "714    3\n",
      "715    3\n",
      "716    3\n",
      "717    3\n",
      "718    3\n",
      "719    1\n",
      "720    1\n",
      "721    1\n",
      "722    1\n",
      "723    1\n",
      "724    1\n",
      "725    1\n",
      "726    1\n",
      "727    1\n",
      "728    1\n",
      "729    1\n",
      "730    1\n",
      "731    1\n",
      "732    1\n",
      "733    1\n",
      "734    1\n",
      "735    1\n",
      "736    1\n",
      "737    1\n",
      "738    2\n",
      "739    3\n",
      "Name: Seasons, Length: 718, dtype: int64\n",
      "Disciplinary_failure\n",
      "0      0.0\n",
      "1      1.0\n",
      "2      0.0\n",
      "3      0.0\n",
      "4      0.0\n",
      "6      0.0\n",
      "7      0.0\n",
      "8      0.0\n",
      "9      0.0\n",
      "10     0.0\n",
      "11     0.0\n",
      "12     0.0\n",
      "13     0.0\n",
      "14     0.0\n",
      "16     0.0\n",
      "17     0.0\n",
      "18     0.0\n",
      "19     0.0\n",
      "21     0.0\n",
      "22     0.0\n",
      "23     0.0\n",
      "24     0.0\n",
      "25     0.0\n",
      "26     0.0\n",
      "27     0.0\n",
      "28     0.0\n",
      "29     0.0\n",
      "30     0.0\n",
      "31     0.0\n",
      "32     0.0\n",
      "      ... \n",
      "710    0.0\n",
      "711    0.0\n",
      "712    0.0\n",
      "713    0.0\n",
      "714    1.0\n",
      "715    1.0\n",
      "716    0.0\n",
      "717    0.0\n",
      "718    0.0\n",
      "719    0.0\n",
      "720    0.0\n",
      "721    0.0\n",
      "722    0.0\n",
      "723    0.0\n",
      "724    0.0\n",
      "725    0.0\n",
      "726    0.0\n",
      "727    0.0\n",
      "728    0.0\n",
      "729    0.0\n",
      "730    0.0\n",
      "731    0.0\n",
      "732    0.0\n",
      "733    0.0\n",
      "734    0.0\n",
      "735    0.0\n",
      "736    0.0\n",
      "737    0.0\n",
      "738    0.0\n",
      "739    0.0\n",
      "Name: Disciplinary_failure, Length: 718, dtype: float64\n",
      "Education\n",
      "0      1.0\n",
      "1      1.0\n",
      "2      1.0\n",
      "3      1.0\n",
      "4      1.0\n",
      "6      1.0\n",
      "7      1.0\n",
      "8      1.0\n",
      "9      3.0\n",
      "10     1.0\n",
      "11     1.0\n",
      "12     1.0\n",
      "13     1.0\n",
      "14     1.0\n",
      "16     1.0\n",
      "17     1.0\n",
      "18     1.0\n",
      "19     1.0\n",
      "21     1.0\n",
      "22     1.0\n",
      "23     1.0\n",
      "24     1.0\n",
      "25     1.0\n",
      "26     1.0\n",
      "27     1.0\n",
      "28     1.0\n",
      "29     1.0\n",
      "30     1.0\n",
      "31     1.0\n",
      "32     3.0\n",
      "      ... \n",
      "710    1.0\n",
      "711    1.0\n",
      "712    2.0\n",
      "713    3.0\n",
      "714    1.0\n",
      "715    2.0\n",
      "716    1.0\n",
      "717    3.0\n",
      "718    1.0\n",
      "719    3.0\n",
      "720    1.0\n",
      "721    2.0\n",
      "722    1.0\n",
      "723    1.0\n",
      "724    2.0\n",
      "725    1.0\n",
      "726    2.0\n",
      "727    1.0\n",
      "728    1.0\n",
      "729    1.0\n",
      "730    1.0\n",
      "731    1.0\n",
      "732    1.0\n",
      "733    1.0\n",
      "734    1.0\n",
      "735    1.0\n",
      "736    3.0\n",
      "737    1.0\n",
      "738    1.0\n",
      "739    1.0\n",
      "Name: Education, Length: 718, dtype: float64\n",
      "Son\n",
      "0      2.0\n",
      "1      1.0\n",
      "2      0.0\n",
      "3      2.0\n",
      "4      2.0\n",
      "6      1.0\n",
      "7      4.0\n",
      "8      2.0\n",
      "9      1.0\n",
      "10     4.0\n",
      "11     4.0\n",
      "12     4.0\n",
      "13     0.0\n",
      "14     0.0\n",
      "16     0.0\n",
      "17     0.0\n",
      "18     2.0\n",
      "19     2.0\n",
      "21     0.0\n",
      "22     1.0\n",
      "23     4.0\n",
      "24     2.0\n",
      "25     1.0\n",
      "26     2.0\n",
      "27     0.0\n",
      "28     2.0\n",
      "29     0.0\n",
      "30     0.0\n",
      "31     1.0\n",
      "32     1.0\n",
      "      ... \n",
      "710    2.0\n",
      "711    1.0\n",
      "712    1.0\n",
      "713    0.0\n",
      "714    1.0\n",
      "715    0.0\n",
      "716    1.0\n",
      "717    0.0\n",
      "718    1.0\n",
      "719    0.0\n",
      "720    0.0\n",
      "721    1.0\n",
      "722    0.0\n",
      "723    0.0\n",
      "724    1.0\n",
      "725    1.0\n",
      "726    1.0\n",
      "727    2.0\n",
      "728    0.0\n",
      "729    2.0\n",
      "730    2.0\n",
      "731    0.0\n",
      "732    1.0\n",
      "733    1.0\n",
      "734    3.0\n",
      "735    2.0\n",
      "736    1.0\n",
      "737    1.0\n",
      "738    2.0\n",
      "739    1.0\n",
      "Name: Son, Length: 718, dtype: float64\n",
      "Social_drinker\n",
      "0      1.0\n",
      "1      1.0\n",
      "2      1.0\n",
      "3      1.0\n",
      "4      1.0\n",
      "6      1.0\n",
      "7      1.0\n",
      "8      1.0\n",
      "9      0.0\n",
      "10     1.0\n",
      "11     1.0\n",
      "12     1.0\n",
      "13     1.0\n",
      "14     1.0\n",
      "16     1.0\n",
      "17     1.0\n",
      "18     0.0\n",
      "19     0.0\n",
      "21     1.0\n",
      "22     1.0\n",
      "23     1.0\n",
      "24     1.0\n",
      "25     1.0\n",
      "26     1.0\n",
      "27     1.0\n",
      "28     1.0\n",
      "29     1.0\n",
      "30     1.0\n",
      "31     0.0\n",
      "32     0.0\n",
      "      ... \n",
      "710    0.0\n",
      "711    1.0\n",
      "712    1.0\n",
      "713    0.0\n",
      "714    0.0\n",
      "715    0.0\n",
      "716    1.0\n",
      "717    0.0\n",
      "718    1.0\n",
      "719    0.0\n",
      "720    0.0\n",
      "721    1.0\n",
      "722    0.0\n",
      "723    0.0\n",
      "724    1.0\n",
      "725    1.0\n",
      "726    1.0\n",
      "727    0.0\n",
      "728    0.0\n",
      "729    0.0\n",
      "730    0.0\n",
      "731    0.0\n",
      "732    1.0\n",
      "733    0.0\n",
      "734    1.0\n",
      "735    1.0\n",
      "736    0.0\n",
      "737    1.0\n",
      "738    1.0\n",
      "739    0.0\n",
      "Name: Social_drinker, Length: 718, dtype: float64\n",
      "Social_smoker\n",
      "0      0.0\n",
      "1      0.0\n",
      "2      0.0\n",
      "3      1.0\n",
      "4      0.0\n",
      "6      0.0\n",
      "7      0.0\n",
      "8      0.0\n",
      "9      0.0\n",
      "10     0.0\n",
      "11     0.0\n",
      "12     0.0\n",
      "13     0.0\n",
      "14     0.0\n",
      "16     0.0\n",
      "17     0.0\n",
      "18     0.0\n",
      "19     0.0\n",
      "21     0.0\n",
      "22     0.0\n",
      "23     0.0\n",
      "24     0.0\n",
      "25     0.0\n",
      "26     0.0\n",
      "27     1.0\n",
      "28     0.0\n",
      "29     0.0\n",
      "30     0.0\n",
      "31     1.0\n",
      "32     0.0\n",
      "      ... \n",
      "710    1.0\n",
      "711    0.0\n",
      "712    0.0\n",
      "713    0.0\n",
      "714    1.0\n",
      "715    0.0\n",
      "716    0.0\n",
      "717    0.0\n",
      "718    0.0\n",
      "719    0.0\n",
      "720    0.0\n",
      "721    0.0\n",
      "722    0.0\n",
      "723    0.0\n",
      "724    0.0\n",
      "725    0.0\n",
      "726    0.0\n",
      "727    0.0\n",
      "728    0.0\n",
      "729    0.0\n",
      "730    0.0\n",
      "731    0.0\n",
      "732    0.0\n",
      "733    0.0\n",
      "734    0.0\n",
      "735    0.0\n",
      "736    0.0\n",
      "737    0.0\n",
      "738    0.0\n",
      "739    0.0\n",
      "Name: Social_smoker, Length: 718, dtype: float64\n",
      "Pet\n",
      "0      1.0\n",
      "1      0.0\n",
      "2      0.0\n",
      "3      0.0\n",
      "4      1.0\n",
      "6      4.0\n",
      "7      0.0\n",
      "8      0.0\n",
      "9      1.0\n",
      "10     0.0\n",
      "11     0.0\n",
      "12     0.0\n",
      "13     0.0\n",
      "14     0.0\n",
      "16     0.0\n",
      "17     0.0\n",
      "18     2.0\n",
      "19     1.0\n",
      "21     0.0\n",
      "22     4.0\n",
      "23     0.0\n",
      "24     1.0\n",
      "25     4.0\n",
      "26     1.0\n",
      "27     0.0\n",
      "28     1.0\n",
      "29     0.0\n",
      "30     0.0\n",
      "31     5.0\n",
      "32     1.0\n",
      "      ... \n",
      "710    4.0\n",
      "711    0.0\n",
      "712    8.0\n",
      "713    0.0\n",
      "714    5.0\n",
      "715    0.0\n",
      "716    0.0\n",
      "717    0.0\n",
      "718    1.0\n",
      "719    0.0\n",
      "720    0.0\n",
      "721    8.0\n",
      "722    0.0\n",
      "723    0.0\n",
      "724    8.0\n",
      "725    0.0\n",
      "726    8.0\n",
      "727    1.0\n",
      "728    0.0\n",
      "729    1.0\n",
      "730    2.0\n",
      "731    0.0\n",
      "732    4.0\n",
      "733    2.0\n",
      "734    0.0\n",
      "735    1.0\n",
      "736    1.0\n",
      "737    8.0\n",
      "738    2.0\n",
      "739    1.0\n",
      "Name: Pet, Length: 718, dtype: float64\n"
     ]
    }
   ],
   "source": [
    "#Missing value imputation for categorical varibles-\n",
    "for i in cat_cnames:\n",
    "    print(i)\n",
    "    Employee_abs[i] = Employee_abs[i].fillna(Employee_abs[i].mode()[0])\n",
    "    print(Employee_abs[i])\n"
   ]
  },
  {
   "cell_type": "code",
   "execution_count": 25,
   "metadata": {},
   "outputs": [],
   "source": [
    "df3=Employee_abs.copy()\n",
    "#Employee_abs=df3.copy()"
   ]
  },
  {
   "cell_type": "code",
   "execution_count": 26,
   "metadata": {},
   "outputs": [
    {
     "data": {
      "text/plain": [
       "4.287690880887575"
      ]
     },
     "execution_count": 26,
     "metadata": {},
     "output_type": "execute_result"
    }
   ],
   "source": [
    "##Missing value imputation for numeric variables-\n",
    "#Here we have two methods to check which method is suitable for imputing missing values \n",
    "#one is taking sample data and manually creating missing values and checking which method is suitable\n",
    "#and another method is checking standard Deviation for variables and selecting accurate method \n",
    "\n",
    "#Lets take one sample data for referance-\n",
    "#Employee_abs['Body_mass_index'][13]\n",
    "#Actual Value= 31\n",
    "#Mean= 26.70\n",
    "#Median=25\n",
    "#KNN= 31\n",
    "\n",
    "#Replace sample data with NA for check the accuracy of imputation method.\n",
    "#Employee_abs['Body_mass_index'][13]=np.nan  \n",
    "\n",
    "##Standard Deviation method\n",
    "np.std(Employee_abs[\"Body_mass_index\"])\n",
    "#actual std=4.28\n",
    "#Mean method=4.20\n",
    "#median method=4.21\n",
    "#Knn method=4.27"
   ]
  },
  {
   "cell_type": "code",
   "execution_count": 24,
   "metadata": {},
   "outputs": [],
   "source": [
    "#Imputation with mean method\n",
    "Employee_abs['Body_mass_index']= Employee_abs['Body_mass_index'].fillna(Employee_abs['Body_mass_index'].mean())\n",
    "\n",
    "Employee_abs['Body_mass_index'][13]\n",
    "#Mean = 26.703488372093023"
   ]
  },
  {
   "cell_type": "code",
   "execution_count": 28,
   "metadata": {},
   "outputs": [],
   "source": [
    "#reload the data and then do the median method\n",
    "#Imputation with mode method\n",
    "#Mean  method-\n",
    "Employee_abs['Body_mass_index']= Employee_abs['Body_mass_index'].fillna(Employee_abs['Body_mass_index'].median())\n",
    "\n",
    "Employee_abs['Body_mass_index'][13]\n",
    "#Mean = 25"
   ]
  },
  {
   "cell_type": "code",
   "execution_count": 29,
   "metadata": {},
   "outputs": [
    {
     "data": {
      "text/plain": [
       "4.2755195283308005"
      ]
     },
     "execution_count": 29,
     "metadata": {},
     "output_type": "execute_result"
    }
   ],
   "source": [
    "#reload the data\n",
    "#KNN method-\n",
    "Employee_abs= pd.DataFrame(KNN(k=3).fit_transform(Employee_abs),columns=Employee_abs.columns)\n",
    "\n",
    "#Employee_abs['Body_mass_index'][13]\n",
    "#KNN=31.00\n",
    "np.std(Employee_abs[\"Body_mass_index\"])\n"
   ]
  },
  {
   "cell_type": "code",
   "execution_count": 30,
   "metadata": {},
   "outputs": [
    {
     "data": {
      "text/plain": [
       "Reason_for_absence                 0\n",
       "Month_of_absence                   0\n",
       "Day_of_the_week                    0\n",
       "Seasons                            0\n",
       "Transportation_expense             0\n",
       "Distance_from_Residence_to_Work    0\n",
       "Service_time                       0\n",
       "Age                                0\n",
       "Work_load_Average_day_             0\n",
       "Hit_target                         0\n",
       "Disciplinary_failure               0\n",
       "Education                          0\n",
       "Son                                0\n",
       "Social_drinker                     0\n",
       "Social_smoker                      0\n",
       "Pet                                0\n",
       "Weight                             0\n",
       "Height                             0\n",
       "Body_mass_index                    0\n",
       "Absenteeism_time_in_hours          0\n",
       "dtype: int64"
      ]
     },
     "execution_count": 30,
     "metadata": {},
     "output_type": "execute_result"
    }
   ],
   "source": [
    "#KNN imputation is more accurate than other imputation methods \n",
    "#so we selected KNN method for imputing the numeric variables\n",
    "\n",
    "#now Checking if all the missing values imputed\n",
    "Employee_abs.isnull().sum()"
   ]
  },
  {
   "cell_type": "markdown",
   "metadata": {},
   "source": [
    "## Data Understanding "
   ]
  },
  {
   "cell_type": "code",
   "execution_count": 31,
   "metadata": {
    "scrolled": false
   },
   "outputs": [
    {
     "data": {
      "text/plain": [
       "Text(0.5, 1.0, 'Abseenteeism time in hours Statistics')"
      ]
     },
     "execution_count": 31,
     "metadata": {},
     "output_type": "execute_result"
    },
    {
     "data": {
      "image/png": "[encoded data removed]",
      "text/plain": [
       "<Figure size 576x432 with 1 Axes>"
      ]
     },
     "metadata": {
      "needs_background": "light"
     },
     "output_type": "display_data"
    }
   ],
   "source": [
    "#Target Variable data distribution\n",
    "plt.figure(figsize=(8,6))\n",
    "sns.countplot(x='Absenteeism_time_in_hours', data=Employee_abs)\n",
    "plt.xlabel('Absenteeism time in hours details', fontsize= 15)\n",
    "plt.ylabel('Count', fontsize= 15)\n",
    "plt.savefig(\"Absenteeism_time_in_hours.png\")\n",
    "plt.title(\"Abseenteeism time in hours Statistics\",fontsize= 20)\n",
    "\n"
   ]
  },
  {
   "cell_type": "code",
   "execution_count": 32,
   "metadata": {
    "scrolled": true
   },
   "outputs": [
    {
     "data": {
      "image/png": "[encoded data removed]",
      "text/plain": [
       "<Figure size 360x360 with 1 Axes>"
      ]
     },
     "metadata": {
      "needs_background": "light"
     },
     "output_type": "display_data"
    },
    {
     "data": {
      "image/png": "[encoded data removed]",
      "text/plain": [
       "<Figure size 360x360 with 1 Axes>"
      ]
     },
     "metadata": {
      "needs_background": "light"
     },
     "output_type": "display_data"
    },
    {
     "data": {
      "image/png": "[encoded data removed]",
      "text/plain": [
       "<Figure size 360x360 with 1 Axes>"
      ]
     },
     "metadata": {
      "needs_background": "light"
     },
     "output_type": "display_data"
    },
    {
     "data": {
      "image/png": "[encoded data removed]",
      "text/plain": [
       "<Figure size 360x360 with 1 Axes>"
      ]
     },
     "metadata": {
      "needs_background": "light"
     },
     "output_type": "display_data"
    },
    {
     "data": {
      "image/png": "[encoded data removed]",
      "text/plain": [
       "<Figure size 360x360 with 1 Axes>"
      ]
     },
     "metadata": {
      "needs_background": "light"
     },
     "output_type": "display_data"
    },
    {
     "data": {
      "image/png": "[encoded data removed]",
      "text/plain": [
       "<Figure size 360x360 with 1 Axes>"
      ]
     },
     "metadata": {
      "needs_background": "light"
     },
     "output_type": "display_data"
    },
    {
     "data": {
      "image/png": "[encoded data removed]",
      "text/plain": [
       "<Figure size 360x360 with 1 Axes>"
      ]
     },
     "metadata": {
      "needs_background": "light"
     },
     "output_type": "display_data"
    },
    {
     "data": {
      "image/png": "[encoded data removed]",
      "text/plain": [
       "<Figure size 360x360 with 1 Axes>"
      ]
     },
     "metadata": {
      "needs_background": "light"
     },
     "output_type": "display_data"
    },
    {
     "data": {
      "image/png": "[encoded data removed]",
      "text/plain": [
       "<Figure size 360x360 with 1 Axes>"
      ]
     },
     "metadata": {
      "needs_background": "light"
     },
     "output_type": "display_data"
    },
    {
     "data": {
      "image/png": "[encoded data removed]",
      "text/plain": [
       "<Figure size 360x360 with 1 Axes>"
      ]
     },
     "metadata": {
      "needs_background": "light"
     },
     "output_type": "display_data"
    }
   ],
   "source": [
    "#Visualizing categorical variables with Target variable\n",
    "for i in cat_cnames:\n",
    "    sns.catplot(x=i, y=\"Absenteeism_time_in_hours\", data=Employee_abs)\n",
    "    fname = str(i)+'.pdf'\n",
    "    plt.savefig(fname)\n"
   ]
  },
  {
   "cell_type": "code",
   "execution_count": 38,
   "metadata": {},
   "outputs": [
    {
     "data": {
      "image/png": "[encoded data removed]",
      "text/plain": [
       "<Figure size 864x864 with 1 Axes>"
      ]
     },
     "metadata": {
      "needs_background": "light"
     },
     "output_type": "display_data"
    }
   ],
   "source": [
    "#Absenteeism visualization-\n",
    "f, ax = plt.subplots(figsize=(12, 12))\n",
    "sns.despine(f, left=True, bottom=True)\n",
    "ax5 = sns.scatterplot(x=\"Absenteeism_time_in_hours\", y=\"Work_load_Average_day_\",\n",
    "                hue=\"Age\", size=\"Service_time\",\n",
    "                palette=\"coolwarm\",\n",
    "                sizes=(10, 100), linewidth=0,\n",
    "                data=Employee_abs, ax=ax)\n",
    "ax5.set_title(\"Absenteeism reason with respect to work load with age and service time\")\n",
    "ax5.set_ylabel(\"Work load average per day\")\n",
    "ax5.set_xlabel(\"Absenteeism (hrs)\")\n",
    "plt.savefig('Absenteeism_reason1.pdf')\n"
   ]
  },
  {
   "cell_type": "markdown",
   "metadata": {},
   "source": [
    "# Outlier Analysis"
   ]
  },
  {
   "cell_type": "code",
   "execution_count": 34,
   "metadata": {},
   "outputs": [],
   "source": [
    "#copy of data\n",
    "df4= Employee_abs.copy()\n",
    "#Employee_abs= df4.copy()\n"
   ]
  },
  {
   "cell_type": "code",
   "execution_count": 35,
   "metadata": {},
   "outputs": [
    {
     "name": "stdout",
     "output_type": "stream",
     "text": [
      "Transportation_expense\n"
     ]
    },
    {
     "data": {
      "image/png": "[encoded data removed]",
      "text/plain": [
       "<Figure size 432x288 with 1 Axes>"
      ]
     },
     "metadata": {
      "needs_background": "light"
     },
     "output_type": "display_data"
    },
    {
     "name": "stdout",
     "output_type": "stream",
     "text": [
      "Distance_from_Residence_to_Work\n"
     ]
    },
    {
     "data": {
      "image/png": "[encoded data removed]",
      "text/plain": [
       "<Figure size 432x288 with 1 Axes>"
      ]
     },
     "metadata": {
      "needs_background": "light"
     },
     "output_type": "display_data"
    },
    {
     "name": "stdout",
     "output_type": "stream",
     "text": [
      "Service_time\n"
     ]
    },
    {
     "data": {
      "image/png": "[encoded data removed]",
      "text/plain": [
       "<Figure size 432x288 with 1 Axes>"
      ]
     },
     "metadata": {
      "needs_background": "light"
     },
     "output_type": "display_data"
    },
    {
     "name": "stdout",
     "output_type": "stream",
     "text": [
      "Age\n"
     ]
    },
    {
     "data": {
      "image/png": "[encoded data removed]",
      "text/plain": [
       "<Figure size 432x288 with 1 Axes>"
      ]
     },
     "metadata": {
      "needs_background": "light"
     },
     "output_type": "display_data"
    },
    {
     "name": "stdout",
     "output_type": "stream",
     "text": [
      "Work_load_Average_day_\n"
     ]
    },
    {
     "data": {
      "image/png": "[encoded data removed]",
      "text/plain": [
       "<Figure size 432x288 with 1 Axes>"
      ]
     },
     "metadata": {
      "needs_background": "light"
     },
     "output_type": "display_data"
    },
    {
     "name": "stdout",
     "output_type": "stream",
     "text": [
      "Hit_target\n"
     ]
    },
    {
     "data": {
      "image/png": "[encoded data removed]",
      "text/plain": [
       "<Figure size 432x288 with 1 Axes>"
      ]
     },
     "metadata": {
      "needs_background": "light"
     },
     "output_type": "display_data"
    },
    {
     "name": "stdout",
     "output_type": "stream",
     "text": [
      "Weight\n"
     ]
    },
    {
     "data": {
      "image/png": "[encoded data removed]",
      "text/plain": [
       "<Figure size 432x288 with 1 Axes>"
      ]
     },
     "metadata": {
      "needs_background": "light"
     },
     "output_type": "display_data"
    },
    {
     "name": "stdout",
     "output_type": "stream",
     "text": [
      "Height\n"
     ]
    },
    {
     "data": {
      "image/png": "[encoded data removed]",
      "text/plain": [
       "<Figure size 432x288 with 1 Axes>"
      ]
     },
     "metadata": {
      "needs_background": "light"
     },
     "output_type": "display_data"
    },
    {
     "name": "stdout",
     "output_type": "stream",
     "text": [
      "Body_mass_index\n"
     ]
    },
    {
     "data": {
      "image/png": "[encoded data removed]",
      "text/plain": [
       "<Figure size 432x288 with 1 Axes>"
      ]
     },
     "metadata": {
      "needs_background": "light"
     },
     "output_type": "display_data"
    },
    {
     "name": "stdout",
     "output_type": "stream",
     "text": [
      "Absenteeism_time_in_hours\n"
     ]
    },
    {
     "data": {
      "image/png": "[encoded data removed]",
      "text/plain": [
       "<Figure size 432x288 with 1 Axes>"
      ]
     },
     "metadata": {
      "needs_background": "light"
     },
     "output_type": "display_data"
    }
   ],
   "source": [
    "##Plot boxplot to visulazie outliers-\n",
    "for i in cnames:\n",
    "    print(i)\n",
    "    plt.boxplot(Employee_abs[i])\n",
    "    plt.xlabel(i)\n",
    "    plt.ylabel('Values')\n",
    "    plt.title(\"BoxPlot of \"+i)\n",
    "    plt.show()"
   ]
  },
  {
   "cell_type": "code",
   "execution_count": 36,
   "metadata": {},
   "outputs": [
    {
     "name": "stdout",
     "output_type": "stream",
     "text": [
      "Transportation_expense\n",
      "57.5\n",
      "381.5\n",
      "81.0\n",
      "Distance_from_Residence_to_Work\n",
      "-35.0\n",
      "101.0\n",
      "34.0\n",
      "Service_time\n",
      "-1.5\n",
      "26.5\n",
      "7.0\n",
      "Age\n",
      "17.5\n",
      "53.5\n",
      "9.0\n",
      "Work_load_Average_day_\n",
      "173.15350000000004\n",
      "363.1094999999999\n",
      "47.488999999999976\n",
      "Hit_target\n",
      "87.0\n",
      "103.0\n",
      "4.0\n",
      "Weight\n",
      "39.0\n",
      "119.0\n",
      "20.0\n",
      "Height\n",
      "164.5\n",
      "176.5\n",
      "3.0\n",
      "Body_mass_index\n",
      "13.5\n",
      "41.5\n",
      "7.0\n",
      "Absenteeism_time_in_hours\n",
      "-7.0\n",
      "17.0\n",
      "6.0\n"
     ]
    }
   ],
   "source": [
    "##Calculate iqr, lower fence and upper fence-\n",
    "for i in cnames:\n",
    "    print(i)\n",
    "    q75,q25= np.percentile(Employee_abs.loc[:,i],[75,25])\n",
    "    iqr= q75-q25\n",
    "    minimum= q25-(iqr*1.5)\n",
    "    maximum= q75+(iqr*1.5)\n",
    "    print(minimum)\n",
    "    print(maximum)\n",
    "    print(iqr)\n",
    "\n",
    "#Replace outliers with NA-    \n",
    "    Employee_abs.loc[Employee_abs[i]< minimum,i] = np.nan\n",
    "    Employee_abs.loc[Employee_abs[i]> maximum,i] = np.nan"
   ]
  },
  {
   "cell_type": "code",
   "execution_count": 37,
   "metadata": {},
   "outputs": [
    {
     "name": "stdout",
     "output_type": "stream",
     "text": [
      "Imputing row 1/718 with 0 missing, elapsed time: 0.206\n",
      "Imputing row 101/718 with 0 missing, elapsed time: 0.209\n",
      "Imputing row 201/718 with 1 missing, elapsed time: 0.210\n",
      "Imputing row 301/718 with 0 missing, elapsed time: 0.212\n",
      "Imputing row 401/718 with 0 missing, elapsed time: 0.214\n",
      "Imputing row 501/718 with 0 missing, elapsed time: 0.214\n",
      "Imputing row 601/718 with 2 missing, elapsed time: 0.215\n",
      "Imputing row 701/718 with 0 missing, elapsed time: 0.217\n"
     ]
    }
   ],
   "source": [
    "#Check NA in dataset-\n",
    "Employee_abs.isnull().sum()\n",
    "\n",
    "#Impute NA with KNN-\n",
    "\n",
    "Employee_abs= pd.DataFrame(KNN(k=3).fit_transform(Employee_abs),columns=Employee_abs.columns)"
   ]
  },
  {
   "cell_type": "code",
   "execution_count": 39,
   "metadata": {},
   "outputs": [
    {
     "data": {
      "text/plain": [
       "Reason_for_absence                 0\n",
       "Month_of_absence                   0\n",
       "Day_of_the_week                    0\n",
       "Seasons                            0\n",
       "Transportation_expense             0\n",
       "Distance_from_Residence_to_Work    0\n",
       "Service_time                       0\n",
       "Age                                0\n",
       "Work_load_Average_day_             0\n",
       "Hit_target                         0\n",
       "Disciplinary_failure               0\n",
       "Education                          0\n",
       "Son                                0\n",
       "Social_drinker                     0\n",
       "Social_smoker                      0\n",
       "Pet                                0\n",
       "Weight                             0\n",
       "Height                             0\n",
       "Body_mass_index                    0\n",
       "Absenteeism_time_in_hours          0\n",
       "dtype: int64"
      ]
     },
     "execution_count": 39,
     "metadata": {},
     "output_type": "execute_result"
    }
   ],
   "source": [
    "Employee_abs.isnull().sum()"
   ]
  },
  {
   "cell_type": "markdown",
   "metadata": {},
   "source": [
    "# Feature Selection"
   ]
  },
  {
   "cell_type": "code",
   "execution_count": 40,
   "metadata": {},
   "outputs": [],
   "source": [
    "df5=Employee_abs.copy()"
   ]
  },
  {
   "cell_type": "code",
   "execution_count": 41,
   "metadata": {},
   "outputs": [],
   "source": [
    "##Correlation analysis for numeric variables-\n",
    "\n",
    "#extract only numeric variables in dataframe for correlation-\n",
    "df_corr= Employee_abs.loc[:,cnames]\n",
    "\n",
    "#Generate correlation matrix-\n",
    "corr_matrix= df_corr.corr()"
   ]
  },
  {
   "cell_type": "code",
   "execution_count": 42,
   "metadata": {},
   "outputs": [
    {
     "data": {
      "text/html": [
       "<div>\n",
       "<style scoped>\n",
       "    .dataframe tbody tr th:only-of-type {\n",
       "        vertical-align: middle;\n",
       "    }\n",
       "\n",
       "    .dataframe tbody tr th {\n",
       "        vertical-align: top;\n",
       "    }\n",
       "\n",
       "    .dataframe thead th {\n",
       "        text-align: right;\n",
       "    }\n",
       "</style>\n",
       "<table border=\"1\" class=\"dataframe\">\n",
       "  <thead>\n",
       "    <tr style=\"text-align: right;\">\n",
       "      <th></th>\n",
       "      <th>Transportation_expense</th>\n",
       "      <th>Distance_from_Residence_to_Work</th>\n",
       "      <th>Service_time</th>\n",
       "      <th>Age</th>\n",
       "      <th>Work_load_Average_day_</th>\n",
       "      <th>Hit_target</th>\n",
       "      <th>Weight</th>\n",
       "      <th>Height</th>\n",
       "      <th>Body_mass_index</th>\n",
       "      <th>Absenteeism_time_in_hours</th>\n",
       "    </tr>\n",
       "  </thead>\n",
       "  <tbody>\n",
       "    <tr>\n",
       "      <th>Transportation_expense</th>\n",
       "      <td>1.000000</td>\n",
       "      <td>0.266958</td>\n",
       "      <td>-0.385905</td>\n",
       "      <td>-0.261316</td>\n",
       "      <td>-0.014446</td>\n",
       "      <td>-0.084023</td>\n",
       "      <td>-0.198486</td>\n",
       "      <td>-0.061471</td>\n",
       "      <td>-0.121693</td>\n",
       "      <td>0.192174</td>\n",
       "    </tr>\n",
       "    <tr>\n",
       "      <th>Distance_from_Residence_to_Work</th>\n",
       "      <td>0.266958</td>\n",
       "      <td>1.000000</td>\n",
       "      <td>0.121563</td>\n",
       "      <td>-0.095117</td>\n",
       "      <td>-0.081580</td>\n",
       "      <td>0.028050</td>\n",
       "      <td>-0.031946</td>\n",
       "      <td>-0.196778</td>\n",
       "      <td>0.131372</td>\n",
       "      <td>-0.004184</td>\n",
       "    </tr>\n",
       "    <tr>\n",
       "      <th>Service_time</th>\n",
       "      <td>-0.385905</td>\n",
       "      <td>0.121563</td>\n",
       "      <td>1.000000</td>\n",
       "      <td>0.646516</td>\n",
       "      <td>-0.063252</td>\n",
       "      <td>0.049683</td>\n",
       "      <td>0.423626</td>\n",
       "      <td>-0.056172</td>\n",
       "      <td>0.470263</td>\n",
       "      <td>-0.058076</td>\n",
       "    </tr>\n",
       "    <tr>\n",
       "      <th>Age</th>\n",
       "      <td>-0.261316</td>\n",
       "      <td>-0.095117</td>\n",
       "      <td>0.646516</td>\n",
       "      <td>1.000000</td>\n",
       "      <td>-0.054495</td>\n",
       "      <td>-0.020749</td>\n",
       "      <td>0.498177</td>\n",
       "      <td>-0.105833</td>\n",
       "      <td>0.552599</td>\n",
       "      <td>-0.083672</td>\n",
       "    </tr>\n",
       "    <tr>\n",
       "      <th>Work_load_Average_day_</th>\n",
       "      <td>-0.014446</td>\n",
       "      <td>-0.081580</td>\n",
       "      <td>-0.063252</td>\n",
       "      <td>-0.054495</td>\n",
       "      <td>1.000000</td>\n",
       "      <td>0.030202</td>\n",
       "      <td>-0.093550</td>\n",
       "      <td>-0.051592</td>\n",
       "      <td>-0.127169</td>\n",
       "      <td>0.050705</td>\n",
       "    </tr>\n",
       "    <tr>\n",
       "      <th>Hit_target</th>\n",
       "      <td>-0.084023</td>\n",
       "      <td>0.028050</td>\n",
       "      <td>0.049683</td>\n",
       "      <td>-0.020749</td>\n",
       "      <td>0.030202</td>\n",
       "      <td>1.000000</td>\n",
       "      <td>-0.019882</td>\n",
       "      <td>0.040081</td>\n",
       "      <td>-0.059491</td>\n",
       "      <td>0.029598</td>\n",
       "    </tr>\n",
       "    <tr>\n",
       "      <th>Weight</th>\n",
       "      <td>-0.198486</td>\n",
       "      <td>-0.031946</td>\n",
       "      <td>0.423626</td>\n",
       "      <td>0.498177</td>\n",
       "      <td>-0.093550</td>\n",
       "      <td>-0.019882</td>\n",
       "      <td>1.000000</td>\n",
       "      <td>0.149778</td>\n",
       "      <td>0.903644</td>\n",
       "      <td>-0.010765</td>\n",
       "    </tr>\n",
       "    <tr>\n",
       "      <th>Height</th>\n",
       "      <td>-0.061471</td>\n",
       "      <td>-0.196778</td>\n",
       "      <td>-0.056172</td>\n",
       "      <td>-0.105833</td>\n",
       "      <td>-0.051592</td>\n",
       "      <td>0.040081</td>\n",
       "      <td>0.149778</td>\n",
       "      <td>1.000000</td>\n",
       "      <td>-0.108530</td>\n",
       "      <td>0.043219</td>\n",
       "    </tr>\n",
       "    <tr>\n",
       "      <th>Body_mass_index</th>\n",
       "      <td>-0.121693</td>\n",
       "      <td>0.131372</td>\n",
       "      <td>0.470263</td>\n",
       "      <td>0.552599</td>\n",
       "      <td>-0.127169</td>\n",
       "      <td>-0.059491</td>\n",
       "      <td>0.903644</td>\n",
       "      <td>-0.108530</td>\n",
       "      <td>1.000000</td>\n",
       "      <td>-0.040237</td>\n",
       "    </tr>\n",
       "    <tr>\n",
       "      <th>Absenteeism_time_in_hours</th>\n",
       "      <td>0.192174</td>\n",
       "      <td>-0.004184</td>\n",
       "      <td>-0.058076</td>\n",
       "      <td>-0.083672</td>\n",
       "      <td>0.050705</td>\n",
       "      <td>0.029598</td>\n",
       "      <td>-0.010765</td>\n",
       "      <td>0.043219</td>\n",
       "      <td>-0.040237</td>\n",
       "      <td>1.000000</td>\n",
       "    </tr>\n",
       "  </tbody>\n",
       "</table>\n",
       "</div>"
      ],
      "text/plain": [
       "                                 Transportation_expense  \\\n",
       "Transportation_expense                         1.000000   \n",
       "Distance_from_Residence_to_Work                0.266958   \n",
       "Service_time                                  -0.385905   \n",
       "Age                                           -0.261316   \n",
       "Work_load_Average_day_                        -0.014446   \n",
       "Hit_target                                    -0.084023   \n",
       "Weight                                        -0.198486   \n",
       "Height                                        -0.061471   \n",
       "Body_mass_index                               -0.121693   \n",
       "Absenteeism_time_in_hours                      0.192174   \n",
       "\n",
       "                                 Distance_from_Residence_to_Work  \\\n",
       "Transportation_expense                                  0.266958   \n",
       "Distance_from_Residence_to_Work                         1.000000   \n",
       "Service_time                                            0.121563   \n",
       "Age                                                    -0.095117   \n",
       "Work_load_Average_day_                                 -0.081580   \n",
       "Hit_target                                              0.028050   \n",
       "Weight                                                 -0.031946   \n",
       "Height                                                 -0.196778   \n",
       "Body_mass_index                                         0.131372   \n",
       "Absenteeism_time_in_hours                              -0.004184   \n",
       "\n",
       "                                 Service_time       Age  \\\n",
       "Transportation_expense              -0.385905 -0.261316   \n",
       "Distance_from_Residence_to_Work      0.121563 -0.095117   \n",
       "Service_time                         1.000000  0.646516   \n",
       "Age                                  0.646516  1.000000   \n",
       "Work_load_Average_day_              -0.063252 -0.054495   \n",
       "Hit_target                           0.049683 -0.020749   \n",
       "Weight                               0.423626  0.498177   \n",
       "Height                              -0.056172 -0.105833   \n",
       "Body_mass_index                      0.470263  0.552599   \n",
       "Absenteeism_time_in_hours           -0.058076 -0.083672   \n",
       "\n",
       "                                 Work_load_Average_day_  Hit_target    Weight  \\\n",
       "Transportation_expense                        -0.014446   -0.084023 -0.198486   \n",
       "Distance_from_Residence_to_Work               -0.081580    0.028050 -0.031946   \n",
       "Service_time                                  -0.063252    0.049683  0.423626   \n",
       "Age                                           -0.054495   -0.020749  0.498177   \n",
       "Work_load_Average_day_                         1.000000    0.030202 -0.093550   \n",
       "Hit_target                                     0.030202    1.000000 -0.019882   \n",
       "Weight                                        -0.093550   -0.019882  1.000000   \n",
       "Height                                        -0.051592    0.040081  0.149778   \n",
       "Body_mass_index                               -0.127169   -0.059491  0.903644   \n",
       "Absenteeism_time_in_hours                      0.050705    0.029598 -0.010765   \n",
       "\n",
       "                                   Height  Body_mass_index  \\\n",
       "Transportation_expense          -0.061471        -0.121693   \n",
       "Distance_from_Residence_to_Work -0.196778         0.131372   \n",
       "Service_time                    -0.056172         0.470263   \n",
       "Age                             -0.105833         0.552599   \n",
       "Work_load_Average_day_          -0.051592        -0.127169   \n",
       "Hit_target                       0.040081        -0.059491   \n",
       "Weight                           0.149778         0.903644   \n",
       "Height                           1.000000        -0.108530   \n",
       "Body_mass_index                 -0.108530         1.000000   \n",
       "Absenteeism_time_in_hours        0.043219        -0.040237   \n",
       "\n",
       "                                 Absenteeism_time_in_hours  \n",
       "Transportation_expense                            0.192174  \n",
       "Distance_from_Residence_to_Work                  -0.004184  \n",
       "Service_time                                     -0.058076  \n",
       "Age                                              -0.083672  \n",
       "Work_load_Average_day_                            0.050705  \n",
       "Hit_target                                        0.029598  \n",
       "Weight                                           -0.010765  \n",
       "Height                                            0.043219  \n",
       "Body_mass_index                                  -0.040237  \n",
       "Absenteeism_time_in_hours                         1.000000  "
      ]
     },
     "execution_count": 42,
     "metadata": {},
     "output_type": "execute_result"
    }
   ],
   "source": [
    "corr_matrix\n"
   ]
  },
  {
   "cell_type": "code",
   "execution_count": 44,
   "metadata": {},
   "outputs": [
    {
     "data": {
      "text/plain": [
       "Text(0.5, 1.0, 'Correlation Plot')"
      ]
     },
     "execution_count": 44,
     "metadata": {},
     "output_type": "execute_result"
    },
    {
     "data": {
      "image/png": "[encoded data removed]",
      "text/plain": [
       "<Figure size 720x720 with 2 Axes>"
      ]
     },
     "metadata": {
      "needs_background": "light"
     },
     "output_type": "display_data"
    }
   ],
   "source": [
    "#Corrleation plot-\n",
    "\n",
    "#Set height and width of page-\n",
    "f,ax= plt.subplots(figsize=(10,10))\n",
    "\n",
    "#Plot-\n",
    "sns.heatmap(corr_matrix,mask=np.zeros_like(corr_matrix,dtype=np.bool),cmap=sns.diverging_palette(240,120,as_cmap=True),\n",
    "           square=True,ax=ax,annot=True)\n",
    "plt.title(\"Correlation Plot\")"
   ]
  },
  {
   "cell_type": "code",
   "execution_count": 45,
   "metadata": {},
   "outputs": [
    {
     "name": "stdout",
     "output_type": "stream",
     "text": [
      "                         sum_sq     df          F    PR(>F)\n",
      "Reason_for_absence   204.282325    1.0  17.915574  0.000026\n",
      "Residual            8164.189531  716.0        NaN       NaN\n",
      "                       sum_sq     df         F    PR(>F)\n",
      "Month_of_absence     0.292084    1.0  0.024991  0.874433\n",
      "Residual          8368.179772  716.0       NaN       NaN\n",
      "                      sum_sq     df         F    PR(>F)\n",
      "Day_of_the_week    54.172342    1.0  4.665143  0.031112\n",
      "Residual         8314.299514  716.0       NaN       NaN\n",
      "               sum_sq     df         F    PR(>F)\n",
      "Seasons     29.539590    1.0  2.536337  0.111694\n",
      "Residual  8338.932266  716.0       NaN       NaN\n",
      "                           sum_sq     df          F        PR(>F)\n",
      "Disciplinary_failure   668.371022    1.0  62.149011  1.188029e-14\n",
      "Residual              7700.100834  716.0        NaN           NaN\n",
      "                sum_sq     df         F    PR(>F)\n",
      "Education     3.693486    1.0  0.316151  0.574106\n",
      "Residual   8364.778370  716.0       NaN       NaN\n",
      "               sum_sq     df          F    PR(>F)\n",
      "Son        218.839218    1.0  19.226496  0.000013\n",
      "Residual  8149.632638  716.0        NaN       NaN\n",
      "                     sum_sq     df         F    PR(>F)\n",
      "Social_drinker    70.901908    1.0  6.118149  0.013611\n",
      "Residual        8297.569948  716.0       NaN       NaN\n",
      "                    sum_sq     df         F    PR(>F)\n",
      "Social_smoker    19.623439    1.0  1.682913  0.194956\n",
      "Residual       8348.848417  716.0       NaN       NaN\n",
      "               sum_sq     df         F    PR(>F)\n",
      "Pet          4.589346    1.0  0.392876  0.530991\n",
      "Residual  8363.882510  716.0       NaN       NaN\n"
     ]
    }
   ],
   "source": [
    "#from above two figures we can see that Weight and Body mass index are higly correlated so will drop one variable\n",
    "#now will check correlation in Categorical variables\n",
    "import statsmodels.api as sm\n",
    "from statsmodels.formula.api import ols\n",
    "\n",
    "label = 'Absenteeism_time_in_hours'\n",
    "for  i in cat_cnames:\n",
    "    frame = label + ' ~ ' + i\n",
    "    model = ols(frame,data=Employee_abs).fit()\n",
    "    anova = sm.stats.anova_lm(model, typ=2)\n",
    "    print(anova)"
   ]
  },
  {
   "cell_type": "code",
   "execution_count": 46,
   "metadata": {},
   "outputs": [],
   "source": [
    "##Dimensionality reduction (Droping redundant variable) on behalf of \n",
    "\n",
    "Employee_abs = Employee_abs.drop([\"Weight\",\"Pet\",\"Social_smoker\",\"Education\",\"Seasons\",\"Month_of_absence\"],axis=1)\n"
   ]
  },
  {
   "cell_type": "code",
   "execution_count": 47,
   "metadata": {},
   "outputs": [
    {
     "data": {
      "text/plain": [
       "(718, 14)"
      ]
     },
     "execution_count": 47,
     "metadata": {},
     "output_type": "execute_result"
    }
   ],
   "source": [
    "Employee_abs.shape"
   ]
  },
  {
   "cell_type": "markdown",
   "metadata": {},
   "source": [
    "# Feature Scaling"
   ]
  },
  {
   "cell_type": "code",
   "execution_count": 48,
   "metadata": {},
   "outputs": [],
   "source": [
    "df6=Employee_abs.copy()\n",
    "#Employee_abs=df1.copy()"
   ]
  },
  {
   "cell_type": "code",
   "execution_count": 49,
   "metadata": {},
   "outputs": [],
   "source": [
    "#updating continuous variables-\n",
    "cnames= ['Transportation_expense', 'Distance_from_Residence_to_Work','Service_time', 'Age',\n",
    "        'Work_load_Average_day_', 'Hit_target','Height', 'Body_mass_index',\n",
    "       'Absenteeism_time_in_hours']\n",
    "\n",
    "#updating categorical variables-\n",
    "cat_cnames= ['Reason_for_absence','Day_of_the_week','Disciplinary_failure','Son', 'Social_drinker']\n"
   ]
  },
  {
   "cell_type": "code",
   "execution_count": 50,
   "metadata": {},
   "outputs": [
    {
     "name": "stdout",
     "output_type": "stream",
     "text": [
      "statistical properities of :Transportation_expense\n",
      "DescribeResult(nobs=718, minmax=(118.0, 378.0), mean=219.9677842947647, variance=4267.403673238506, skewness=0.3627667581574291, kurtosis=-0.33362280119869636)\n",
      "*************************************************************\n",
      "statistical properities of :Distance_from_Residence_to_Work\n",
      "DescribeResult(nobs=718, minmax=(5.0, 52.0), mean=29.54874651572311, variance=218.28702076207122, skewness=0.3205003614151142, kurtosis=-1.238708485370826)\n",
      "*************************************************************\n",
      "statistical properities of :Service_time\n",
      "DescribeResult(nobs=718, minmax=(1.0, 24.0), mean=12.473537606081669, variance=17.21756933851194, skewness=-0.33956117792159224, kurtosis=-0.17000453283733075)\n",
      "*************************************************************\n",
      "statistical properities of :Age\n",
      "DescribeResult(nobs=718, minmax=(27.0, 53.0), mean=36.159532159681824, variance=37.208692540082055, skewness=0.482362503527695, kurtosis=-0.25572276239363756)\n",
      "*************************************************************\n",
      "statistical properities of :Work_load_Average_day_\n",
      "DescribeResult(nobs=718, minmax=(205.917, 343.253), mean=267.2818537094081, variance=1044.2774030970302, skewness=0.5525448686748119, kurtosis=-0.22139504428714307)\n",
      "*************************************************************\n",
      "statistical properities of :Hit_target\n",
      "DescribeResult(nobs=718, minmax=(87.0, 100.0), mean=94.94744096662974, variance=9.503157769997522, skewness=-0.4529577432934987, kurtosis=-0.3902600452996592)\n",
      "*************************************************************\n",
      "statistical properities of :Height\n",
      "DescribeResult(nobs=718, minmax=(165.0, 175.00000871636007), mean=170.2630302836456, variance=3.7592872854626127, skewness=-0.5097627199794268, kurtosis=0.7249549098532762)\n",
      "*************************************************************\n",
      "statistical properities of :Body_mass_index\n",
      "DescribeResult(nobs=718, minmax=(19.0, 38.0), mean=26.707767957736245, variance=18.3055624494631, skewness=0.281431783354208, kurtosis=-0.32990267694432385)\n",
      "*************************************************************\n",
      "statistical properities of :Absenteeism_time_in_hours\n",
      "DescribeResult(nobs=718, minmax=(0.0, 16.0), mean=4.395769382082745, variance=11.671508864660172, skewness=1.1166027772140417, kurtosis=1.3378043972288554)\n",
      "*************************************************************\n"
     ]
    }
   ],
   "source": [
    "#Skewness of numeric variables-\n",
    "for i in cnames:\n",
    "    skewness = stats.describe(Employee_abs.loc[:,i])\n",
    "    print(\"statistical properities of :\"+str(i))\n",
    "    print(skewness)\n",
    "    print(\"*************************************************************\")\n"
   ]
  },
  {
   "cell_type": "code",
   "execution_count": 51,
   "metadata": {},
   "outputs": [],
   "source": [
    "#since skewness of target variable is high, apply log transform to reduce the skewness-\n",
    "Employee_abs['Absenteeism_time_in_hours'] = np.log1p(Employee_abs['Absenteeism_time_in_hours'])"
   ]
  },
  {
   "cell_type": "code",
   "execution_count": 52,
   "metadata": {},
   "outputs": [
    {
     "name": "stdout",
     "output_type": "stream",
     "text": [
      "Transportation_expense\n"
     ]
    },
    {
     "data": {
      "image/png": "[encoded data removed]",
      "text/plain": [
       "<Figure size 432x288 with 1 Axes>"
      ]
     },
     "metadata": {
      "needs_background": "light"
     },
     "output_type": "display_data"
    },
    {
     "name": "stdout",
     "output_type": "stream",
     "text": [
      "Distance_from_Residence_to_Work\n"
     ]
    },
    {
     "data": {
      "image/png": "[encoded data removed]",
      "text/plain": [
       "<Figure size 432x288 with 1 Axes>"
      ]
     },
     "metadata": {
      "needs_background": "light"
     },
     "output_type": "display_data"
    },
    {
     "name": "stdout",
     "output_type": "stream",
     "text": [
      "Service_time\n"
     ]
    },
    {
     "data": {
      "image/png": "[encoded data removed]",
      "text/plain": [
       "<Figure size 432x288 with 1 Axes>"
      ]
     },
     "metadata": {
      "needs_background": "light"
     },
     "output_type": "display_data"
    },
    {
     "name": "stdout",
     "output_type": "stream",
     "text": [
      "Age\n"
     ]
    },
    {
     "data": {
      "image/png": "[encoded data removed]",
      "text/plain": [
       "<Figure size 432x288 with 1 Axes>"
      ]
     },
     "metadata": {
      "needs_background": "light"
     },
     "output_type": "display_data"
    },
    {
     "name": "stdout",
     "output_type": "stream",
     "text": [
      "Work_load_Average_day_\n"
     ]
    },
    {
     "data": {
      "image/png": "[encoded data removed]",
      "text/plain": [
       "<Figure size 432x288 with 1 Axes>"
      ]
     },
     "metadata": {
      "needs_background": "light"
     },
     "output_type": "display_data"
    },
    {
     "name": "stdout",
     "output_type": "stream",
     "text": [
      "Hit_target\n"
     ]
    },
    {
     "data": {
      "image/png": "[encoded data removed]",
      "text/plain": [
       "<Figure size 432x288 with 1 Axes>"
      ]
     },
     "metadata": {
      "needs_background": "light"
     },
     "output_type": "display_data"
    },
    {
     "name": "stdout",
     "output_type": "stream",
     "text": [
      "Height\n"
     ]
    },
    {
     "data": {
      "image/png": "[encoded data removed]",
      "text/plain": [
       "<Figure size 432x288 with 1 Axes>"
      ]
     },
     "metadata": {
      "needs_background": "light"
     },
     "output_type": "display_data"
    },
    {
     "name": "stdout",
     "output_type": "stream",
     "text": [
      "Body_mass_index\n"
     ]
    },
    {
     "data": {
      "image/png": "[encoded data removed]",
      "text/plain": [
       "<Figure size 432x288 with 1 Axes>"
      ]
     },
     "metadata": {
      "needs_background": "light"
     },
     "output_type": "display_data"
    },
    {
     "name": "stdout",
     "output_type": "stream",
     "text": [
      "Absenteeism_time_in_hours\n"
     ]
    },
    {
     "data": {
      "image/png": "[encoded data removed]",
      "text/plain": [
       "<Figure size 432x288 with 1 Axes>"
      ]
     },
     "metadata": {
      "needs_background": "light"
     },
     "output_type": "display_data"
    }
   ],
   "source": [
    "#Normality check\n",
    "for i in cnames:\n",
    "    print(i)\n",
    "    %matplotlib inline  \n",
    "    plt.hist(Employee_abs[i], bins='auto',color='orange')\n",
    "    plt.title(\"Distribution for Variable \"+i)\n",
    "    plt.ylabel(\"Density\")\n",
    "    plt.show() \n",
    "\n",
    " #From below plot its showing data is not uniformaly distributed, so we will do normalization for dataset."
   ]
  },
  {
   "cell_type": "code",
   "execution_count": 53,
   "metadata": {},
   "outputs": [
    {
     "name": "stdout",
     "output_type": "stream",
     "text": [
      "Transportation_expense\n",
      "0      0.657692\n",
      "1      0.000000\n",
      "2      0.234615\n",
      "3      0.619231\n",
      "4      0.657692\n",
      "5      0.934615\n",
      "6      0.546154\n",
      "7      0.142308\n",
      "8      0.450000\n",
      "9      0.546154\n",
      "10     0.546154\n",
      "11     0.546154\n",
      "12     0.234615\n",
      "13     0.234615\n",
      "14     0.234615\n",
      "15     0.234615\n",
      "16     0.273077\n",
      "17     0.500000\n",
      "18     0.234615\n",
      "19     0.934615\n",
      "20     0.546154\n",
      "21     0.657692\n",
      "22     0.934615\n",
      "23     0.657692\n",
      "24     0.150000\n",
      "25     0.657692\n",
      "26     0.234615\n",
      "27     0.234615\n",
      "28     0.450000\n",
      "29     0.196767\n",
      "         ...   \n",
      "688    1.000000\n",
      "689    0.000000\n",
      "690    0.442308\n",
      "691    0.234615\n",
      "692    0.450000\n",
      "693    0.576923\n",
      "694    0.000000\n",
      "695    0.234615\n",
      "696    0.665385\n",
      "697    0.234615\n",
      "698    0.000000\n",
      "699    0.442308\n",
      "700    0.000000\n",
      "701    0.000000\n",
      "702    0.442308\n",
      "703    0.450000\n",
      "704    0.442308\n",
      "705    0.423077\n",
      "706    0.000000\n",
      "707    0.423077\n",
      "708    0.273077\n",
      "709    0.000000\n",
      "710    0.934615\n",
      "711    0.411538\n",
      "712    0.965385\n",
      "713    0.657692\n",
      "714    0.450000\n",
      "715    0.000000\n",
      "716    0.434615\n",
      "717    0.234615\n",
      "Name: Transportation_expense, Length: 718, dtype: float64\n",
      "Distance_from_Residence_to_Work\n",
      "0      0.659574\n",
      "1      0.170213\n",
      "2      0.978723\n",
      "3      0.000000\n",
      "4      0.659574\n",
      "5      1.000000\n",
      "6      0.957447\n",
      "7      0.148936\n",
      "8      0.127660\n",
      "9      0.957447\n",
      "10     0.957447\n",
      "11     0.957447\n",
      "12     0.978723\n",
      "13     0.978723\n",
      "14     0.978723\n",
      "15     0.978723\n",
      "16     0.510638\n",
      "17     0.425532\n",
      "18     0.978723\n",
      "19     1.000000\n",
      "20     0.957447\n",
      "21     0.659574\n",
      "22     1.000000\n",
      "23     0.659574\n",
      "24     0.468085\n",
      "25     0.659574\n",
      "26     0.978723\n",
      "27     0.978723\n",
      "28     0.510638\n",
      "29     0.127660\n",
      "         ...   \n",
      "688    0.936170\n",
      "689    0.170213\n",
      "690    0.978723\n",
      "691    0.446809\n",
      "692    0.510638\n",
      "693    0.127660\n",
      "694    0.170213\n",
      "695    0.446809\n",
      "696    0.553191\n",
      "697    0.446809\n",
      "698    0.106383\n",
      "699    0.978723\n",
      "700    0.106383\n",
      "701    0.106383\n",
      "702    0.978723\n",
      "703    0.319149\n",
      "704    0.978723\n",
      "705    0.191489\n",
      "706    0.106383\n",
      "707    0.191489\n",
      "708    0.510638\n",
      "709    0.106383\n",
      "710    1.000000\n",
      "711    0.446809\n",
      "712    0.255319\n",
      "713    0.659574\n",
      "714    0.127660\n",
      "715    0.191489\n",
      "716    0.638298\n",
      "717    0.851064\n",
      "Name: Distance_from_Residence_to_Work, Length: 718, dtype: float64\n",
      "Service_time\n",
      "0      0.521739\n",
      "1      0.739130\n",
      "2      0.739130\n",
      "3      0.565217\n",
      "4      0.521739\n",
      "5      0.086957\n",
      "6      0.434783\n",
      "7      0.565217\n",
      "8      0.565217\n",
      "9      0.434783\n",
      "10     0.434783\n",
      "11     0.434783\n",
      "12     0.739130\n",
      "13     0.739130\n",
      "14     0.739130\n",
      "15     0.739130\n",
      "16     0.521739\n",
      "17     0.565217\n",
      "18     0.739130\n",
      "19     0.086957\n",
      "20     0.434783\n",
      "21     0.521739\n",
      "22     0.086957\n",
      "23     0.521739\n",
      "24     0.217391\n",
      "25     0.521739\n",
      "26     0.739130\n",
      "27     0.739130\n",
      "28     0.478261\n",
      "29     0.565217\n",
      "         ...   \n",
      "688    0.434783\n",
      "689    0.739130\n",
      "690    0.000000\n",
      "691    0.347826\n",
      "692    0.478261\n",
      "693    0.304348\n",
      "694    0.739130\n",
      "695    0.347826\n",
      "696    0.478261\n",
      "697    0.347826\n",
      "698    0.391304\n",
      "699    0.000000\n",
      "700    0.391304\n",
      "701    0.391304\n",
      "702    0.000000\n",
      "703    0.521739\n",
      "704    0.000000\n",
      "705    0.652174\n",
      "706    0.391304\n",
      "707    0.652174\n",
      "708    0.521739\n",
      "709    0.391304\n",
      "710    0.086957\n",
      "711    0.347826\n",
      "712    0.478261\n",
      "713    0.521739\n",
      "714    0.565217\n",
      "715    0.521739\n",
      "716    0.565217\n",
      "717    0.565217\n",
      "Name: Service_time, Length: 718, dtype: float64\n",
      "Age\n",
      "0      0.230769\n",
      "1      0.884615\n",
      "2      0.423077\n",
      "3      0.461538\n",
      "4      0.230769\n",
      "5      0.038462\n",
      "6      0.346154\n",
      "7      0.269231\n",
      "8      0.384615\n",
      "9      0.346154\n",
      "10     0.346154\n",
      "11     0.346154\n",
      "12     0.423077\n",
      "13     0.423077\n",
      "14     0.423077\n",
      "15     0.423077\n",
      "16     0.230769\n",
      "17     0.769231\n",
      "18     0.423077\n",
      "19     0.038462\n",
      "20     0.346154\n",
      "21     0.230769\n",
      "22     0.038462\n",
      "23     0.230769\n",
      "24     0.076923\n",
      "25     0.230769\n",
      "26     0.423077\n",
      "27     0.423077\n",
      "28     0.807692\n",
      "29     0.384615\n",
      "         ...   \n",
      "688    0.346154\n",
      "689    0.884615\n",
      "690    0.153846\n",
      "691    0.115385\n",
      "692    0.807692\n",
      "693    0.230769\n",
      "694    0.884615\n",
      "695    0.115385\n",
      "696    0.500000\n",
      "697    0.115385\n",
      "698    0.384615\n",
      "699    0.153846\n",
      "700    0.384615\n",
      "701    0.384615\n",
      "702    0.153846\n",
      "703    0.615385\n",
      "704    0.153846\n",
      "705    0.085443\n",
      "706    0.384615\n",
      "707    0.323414\n",
      "708    0.230769\n",
      "709    0.384615\n",
      "710    0.038462\n",
      "711    0.038462\n",
      "712    0.153846\n",
      "713    0.230769\n",
      "714    0.384615\n",
      "715    0.500000\n",
      "716    0.461538\n",
      "717    1.000000\n",
      "Name: Age, Length: 718, dtype: float64\n",
      "Work_load_Average_day_\n",
      "0      0.244925\n",
      "1      0.244925\n",
      "2      0.244925\n",
      "3      0.244925\n",
      "4      0.244925\n",
      "5      0.244925\n",
      "6      0.244925\n",
      "7      0.244925\n",
      "8      0.244925\n",
      "9      0.244925\n",
      "10     0.244925\n",
      "11     0.244925\n",
      "12     0.244925\n",
      "13     0.244925\n",
      "14     0.244925\n",
      "15     0.244925\n",
      "16     0.244925\n",
      "17     0.000000\n",
      "18     0.000000\n",
      "19     0.000000\n",
      "20     0.000000\n",
      "21     0.000000\n",
      "22     0.000000\n",
      "23     0.000000\n",
      "24     0.000000\n",
      "25     0.000000\n",
      "26     0.000000\n",
      "27     0.000000\n",
      "28     0.000000\n",
      "29     0.000000\n",
      "         ...   \n",
      "688    0.503670\n",
      "689    0.503670\n",
      "690    0.503670\n",
      "691    0.503670\n",
      "692    0.503670\n",
      "693    0.503670\n",
      "694    0.503670\n",
      "695    0.503670\n",
      "696    0.503670\n",
      "697    0.503670\n",
      "698    0.503670\n",
      "699    0.503670\n",
      "700    0.503670\n",
      "701    0.503670\n",
      "702    0.503670\n",
      "703    0.427324\n",
      "704    0.427324\n",
      "705    0.427324\n",
      "706    0.427324\n",
      "707    0.427324\n",
      "708    0.427324\n",
      "709    0.427324\n",
      "710    0.427324\n",
      "711    0.427324\n",
      "712    0.427324\n",
      "713    0.427324\n",
      "714    0.427324\n",
      "715    0.475491\n",
      "716    0.475491\n",
      "717    0.475491\n",
      "Name: Work_load_Average_day_, Length: 718, dtype: float64\n",
      "Hit_target\n",
      "0      0.769231\n",
      "1      0.769231\n",
      "2      0.769231\n",
      "3      0.769231\n",
      "4      0.769231\n",
      "5      0.769231\n",
      "6      0.769231\n",
      "7      0.769231\n",
      "8      0.769231\n",
      "9      0.769231\n",
      "10     0.769231\n",
      "11     0.769231\n",
      "12     0.769231\n",
      "13     0.769231\n",
      "14     0.769231\n",
      "15     0.769231\n",
      "16     0.769231\n",
      "17     0.384615\n",
      "18     0.384615\n",
      "19     0.384615\n",
      "20     0.384615\n",
      "21     0.384615\n",
      "22     0.384615\n",
      "23     0.384615\n",
      "24     0.384615\n",
      "25     0.384615\n",
      "26     0.384615\n",
      "27     0.384615\n",
      "28     0.384615\n",
      "29     0.384615\n",
      "         ...   \n",
      "688    0.692308\n",
      "689    0.692308\n",
      "690    0.692308\n",
      "691    0.692308\n",
      "692    0.692308\n",
      "693    0.692308\n",
      "694    0.692308\n",
      "695    0.692308\n",
      "696    0.692308\n",
      "697    0.692308\n",
      "698    0.692308\n",
      "699    0.692308\n",
      "700    0.692308\n",
      "701    0.692308\n",
      "702    0.692308\n",
      "703    0.461538\n",
      "704    0.461538\n",
      "705    0.461538\n",
      "706    0.461538\n",
      "707    0.461538\n",
      "708    0.461538\n",
      "709    0.461538\n",
      "710    0.461538\n",
      "711    0.461538\n",
      "712    0.461538\n",
      "713    0.461538\n",
      "714    0.461538\n",
      "715    0.615385\n",
      "716    0.615385\n",
      "717    0.615385\n",
      "Name: Hit_target, Length: 718, dtype: float64\n",
      "Height\n",
      "0      0.699999\n",
      "1      0.699999\n",
      "2      0.500000\n",
      "3      0.300000\n",
      "4      0.699999\n",
      "5      0.699999\n",
      "6      0.300000\n",
      "7      0.699999\n",
      "8      0.699999\n",
      "9      0.300000\n",
      "10     0.300000\n",
      "11     0.300000\n",
      "12     0.500000\n",
      "13     0.500000\n",
      "14     0.500000\n",
      "15     0.500000\n",
      "16     0.200000\n",
      "17     0.000000\n",
      "18     0.500000\n",
      "19     0.699999\n",
      "20     0.300000\n",
      "21     0.699999\n",
      "22     0.699999\n",
      "23     0.699999\n",
      "24     0.644934\n",
      "25     0.699999\n",
      "26     0.500000\n",
      "27     0.500000\n",
      "28     0.163340\n",
      "29     0.699999\n",
      "         ...   \n",
      "688    0.899999\n",
      "689    0.700001\n",
      "690    0.400000\n",
      "691    0.599999\n",
      "692    0.193738\n",
      "693    0.349621\n",
      "694    0.700000\n",
      "695    0.599999\n",
      "696    0.599999\n",
      "697    0.599999\n",
      "698    0.699999\n",
      "699    0.399999\n",
      "700    0.699999\n",
      "701    0.699999\n",
      "702    0.399999\n",
      "703    0.200000\n",
      "704    0.400000\n",
      "705    0.699999\n",
      "706    0.699999\n",
      "707    0.699999\n",
      "708    0.200000\n",
      "709    0.699999\n",
      "710    0.699999\n",
      "711    0.400000\n",
      "712    0.400000\n",
      "713    0.699999\n",
      "714    0.699999\n",
      "715    0.500000\n",
      "716    0.500000\n",
      "717    0.999999\n",
      "Name: Height, Length: 718, dtype: float64\n",
      "Body_mass_index\n",
      "0      0.578947\n",
      "1      0.631579\n",
      "2      0.631579\n",
      "3      0.263158\n",
      "4      0.578947\n",
      "5      0.421053\n",
      "6      0.210526\n",
      "7      0.315789\n",
      "8      0.526316\n",
      "9      0.210526\n",
      "10     0.210526\n",
      "11     0.210526\n",
      "12     0.631579\n",
      "13     0.631579\n",
      "14     0.631579\n",
      "15     0.631579\n",
      "16     0.315789\n",
      "17     0.684211\n",
      "18     0.631579\n",
      "19     0.421053\n",
      "20     0.210526\n",
      "21     0.578947\n",
      "22     0.421053\n",
      "23     0.578947\n",
      "24     0.274413\n",
      "25     0.578947\n",
      "26     0.631579\n",
      "27     0.631579\n",
      "28     0.735323\n",
      "29     0.526316\n",
      "         ...   \n",
      "688    0.105263\n",
      "689    0.631579\n",
      "690    0.105263\n",
      "691    0.000000\n",
      "692    0.736842\n",
      "693    0.315789\n",
      "694    0.631579\n",
      "695    0.000000\n",
      "696    0.315789\n",
      "697    0.000000\n",
      "698    0.473684\n",
      "699    0.105263\n",
      "700    0.473684\n",
      "701    0.473684\n",
      "702    0.105263\n",
      "703    1.000000\n",
      "704    0.105263\n",
      "705    0.157895\n",
      "706    0.473684\n",
      "707    0.157895\n",
      "708    0.315789\n",
      "709    0.473684\n",
      "710    0.421053\n",
      "711    0.263158\n",
      "712    0.315789\n",
      "713    0.578947\n",
      "714    0.526316\n",
      "715    0.789474\n",
      "716    0.842105\n",
      "717    0.315789\n",
      "Name: Body_mass_index, Length: 718, dtype: float64\n"
     ]
    }
   ],
   "source": [
    "#Since the data is not normally distributed we go for Normalization\n",
    "\n",
    "#Normalization-\n",
    "for i in cnames:\n",
    "    if i== 'Absenteeism_time_in_hours':\n",
    "        continue\n",
    "    print(i)\n",
    "    Employee_abs[i]= (Employee_abs[i]-min(Employee_abs[i]))/(max(Employee_abs[i])-min(Employee_abs[i]))\n",
    "    print(Employee_abs[i])"
   ]
  },
  {
   "cell_type": "code",
   "execution_count": 54,
   "metadata": {},
   "outputs": [
    {
     "name": "stdout",
     "output_type": "stream",
     "text": [
      "Transportation_expense\n"
     ]
    },
    {
     "data": {
      "image/png": "[encoded data removed]",
      "text/plain": [
       "<Figure size 432x288 with 1 Axes>"
      ]
     },
     "metadata": {
      "needs_background": "light"
     },
     "output_type": "display_data"
    },
    {
     "name": "stdout",
     "output_type": "stream",
     "text": [
      "Distance_from_Residence_to_Work\n"
     ]
    },
    {
     "data": {
      "image/png": "[encoded data removed]",
      "text/plain": [
       "<Figure size 432x288 with 1 Axes>"
      ]
     },
     "metadata": {
      "needs_background": "light"
     },
     "output_type": "display_data"
    },
    {
     "name": "stdout",
     "output_type": "stream",
     "text": [
      "Service_time\n"
     ]
    },
    {
     "data": {
      "image/png": "[encoded data removed]",
      "text/plain": [
       "<Figure size 432x288 with 1 Axes>"
      ]
     },
     "metadata": {
      "needs_background": "light"
     },
     "output_type": "display_data"
    },
    {
     "name": "stdout",
     "output_type": "stream",
     "text": [
      "Age\n"
     ]
    },
    {
     "data": {
      "image/png": "[encoded data removed]",
      "text/plain": [
       "<Figure size 432x288 with 1 Axes>"
      ]
     },
     "metadata": {
      "needs_background": "light"
     },
     "output_type": "display_data"
    },
    {
     "name": "stdout",
     "output_type": "stream",
     "text": [
      "Work_load_Average_day_\n"
     ]
    },
    {
     "data": {
      "image/png": "[encoded data removed]",
      "text/plain": [
       "<Figure size 432x288 with 1 Axes>"
      ]
     },
     "metadata": {
      "needs_background": "light"
     },
     "output_type": "display_data"
    },
    {
     "name": "stdout",
     "output_type": "stream",
     "text": [
      "Hit_target\n"
     ]
    },
    {
     "data": {
      "image/png": "[encoded data removed]",
      "text/plain": [
       "<Figure size 432x288 with 1 Axes>"
      ]
     },
     "metadata": {
      "needs_background": "light"
     },
     "output_type": "display_data"
    },
    {
     "name": "stdout",
     "output_type": "stream",
     "text": [
      "Height\n"
     ]
    },
    {
     "data": {
      "image/png": "[encoded data removed]",
      "text/plain": [
       "<Figure size 432x288 with 1 Axes>"
      ]
     },
     "metadata": {
      "needs_background": "light"
     },
     "output_type": "display_data"
    },
    {
     "name": "stdout",
     "output_type": "stream",
     "text": [
      "Body_mass_index\n"
     ]
    },
    {
     "data": {
      "image/png": "[encoded data removed]",
      "text/plain": [
       "<Figure size 432x288 with 1 Axes>"
      ]
     },
     "metadata": {
      "needs_background": "light"
     },
     "output_type": "display_data"
    },
    {
     "name": "stdout",
     "output_type": "stream",
     "text": [
      "Absenteeism_time_in_hours\n"
     ]
    },
    {
     "data": {
      "image/png": "[encoded data removed]",
      "text/plain": [
       "<Figure size 432x288 with 1 Axes>"
      ]
     },
     "metadata": {
      "needs_background": "light"
     },
     "output_type": "display_data"
    }
   ],
   "source": [
    "#probablility distribution of data after normalization-\n",
    "for i in cnames:\n",
    "    print(i)\n",
    "    sns.distplot(Employee_abs[i],bins='auto',color='red')\n",
    "    plt.title(\"Distribution for Variable \"+i)\n",
    "    plt.ylabel(\"Density\")\n",
    "    plt.show()"
   ]
  },
  {
   "cell_type": "code",
   "execution_count": 55,
   "metadata": {},
   "outputs": [
    {
     "data": {
      "text/html": [
       "<div>\n",
       "<style scoped>\n",
       "    .dataframe tbody tr th:only-of-type {\n",
       "        vertical-align: middle;\n",
       "    }\n",
       "\n",
       "    .dataframe tbody tr th {\n",
       "        vertical-align: top;\n",
       "    }\n",
       "\n",
       "    .dataframe thead th {\n",
       "        text-align: right;\n",
       "    }\n",
       "</style>\n",
       "<table border=\"1\" class=\"dataframe\">\n",
       "  <thead>\n",
       "    <tr style=\"text-align: right;\">\n",
       "      <th></th>\n",
       "      <th>Reason_for_absence</th>\n",
       "      <th>Day_of_the_week</th>\n",
       "      <th>Transportation_expense</th>\n",
       "      <th>Distance_from_Residence_to_Work</th>\n",
       "      <th>Service_time</th>\n",
       "      <th>Age</th>\n",
       "      <th>Work_load_Average_day_</th>\n",
       "      <th>Hit_target</th>\n",
       "      <th>Disciplinary_failure</th>\n",
       "      <th>Son</th>\n",
       "      <th>Social_drinker</th>\n",
       "      <th>Height</th>\n",
       "      <th>Body_mass_index</th>\n",
       "      <th>Absenteeism_time_in_hours</th>\n",
       "    </tr>\n",
       "  </thead>\n",
       "  <tbody>\n",
       "    <tr>\n",
       "      <th>count</th>\n",
       "      <td>718.000000</td>\n",
       "      <td>718.000000</td>\n",
       "      <td>718.000000</td>\n",
       "      <td>718.000000</td>\n",
       "      <td>718.000000</td>\n",
       "      <td>718.000000</td>\n",
       "      <td>718.000000</td>\n",
       "      <td>718.000000</td>\n",
       "      <td>718.000000</td>\n",
       "      <td>718.000000</td>\n",
       "      <td>718.000000</td>\n",
       "      <td>718.000000</td>\n",
       "      <td>718.000000</td>\n",
       "      <td>718.000000</td>\n",
       "    </tr>\n",
       "    <tr>\n",
       "      <th>mean</th>\n",
       "      <td>19.409471</td>\n",
       "      <td>3.899721</td>\n",
       "      <td>0.392184</td>\n",
       "      <td>0.522314</td>\n",
       "      <td>0.498849</td>\n",
       "      <td>0.352290</td>\n",
       "      <td>0.446823</td>\n",
       "      <td>0.611342</td>\n",
       "      <td>0.045961</td>\n",
       "      <td>1.001393</td>\n",
       "      <td>0.565460</td>\n",
       "      <td>0.526303</td>\n",
       "      <td>0.405672</td>\n",
       "      <td>1.482805</td>\n",
       "    </tr>\n",
       "    <tr>\n",
       "      <th>std</th>\n",
       "      <td>8.279768</td>\n",
       "      <td>1.419519</td>\n",
       "      <td>0.251251</td>\n",
       "      <td>0.314352</td>\n",
       "      <td>0.180409</td>\n",
       "      <td>0.234611</td>\n",
       "      <td>0.235301</td>\n",
       "      <td>0.237132</td>\n",
       "      <td>0.209547</td>\n",
       "      <td>1.084311</td>\n",
       "      <td>0.496042</td>\n",
       "      <td>0.193889</td>\n",
       "      <td>0.225184</td>\n",
       "      <td>0.658182</td>\n",
       "    </tr>\n",
       "    <tr>\n",
       "      <th>min</th>\n",
       "      <td>0.000000</td>\n",
       "      <td>2.000000</td>\n",
       "      <td>0.000000</td>\n",
       "      <td>0.000000</td>\n",
       "      <td>0.000000</td>\n",
       "      <td>0.000000</td>\n",
       "      <td>0.000000</td>\n",
       "      <td>0.000000</td>\n",
       "      <td>0.000000</td>\n",
       "      <td>0.000000</td>\n",
       "      <td>0.000000</td>\n",
       "      <td>0.000000</td>\n",
       "      <td>0.000000</td>\n",
       "      <td>0.000000</td>\n",
       "    </tr>\n",
       "    <tr>\n",
       "      <th>25%</th>\n",
       "      <td>13.000000</td>\n",
       "      <td>3.000000</td>\n",
       "      <td>0.234615</td>\n",
       "      <td>0.234043</td>\n",
       "      <td>0.347826</td>\n",
       "      <td>0.153846</td>\n",
       "      <td>0.280116</td>\n",
       "      <td>0.461538</td>\n",
       "      <td>0.000000</td>\n",
       "      <td>0.000000</td>\n",
       "      <td>0.000000</td>\n",
       "      <td>0.400000</td>\n",
       "      <td>0.263158</td>\n",
       "      <td>1.098612</td>\n",
       "    </tr>\n",
       "    <tr>\n",
       "      <th>50%</th>\n",
       "      <td>23.000000</td>\n",
       "      <td>4.000000</td>\n",
       "      <td>0.411538</td>\n",
       "      <td>0.446809</td>\n",
       "      <td>0.521739</td>\n",
       "      <td>0.384615</td>\n",
       "      <td>0.424739</td>\n",
       "      <td>0.615385</td>\n",
       "      <td>0.000000</td>\n",
       "      <td>1.000000</td>\n",
       "      <td>1.000000</td>\n",
       "      <td>0.500000</td>\n",
       "      <td>0.315789</td>\n",
       "      <td>1.386294</td>\n",
       "    </tr>\n",
       "    <tr>\n",
       "      <th>75%</th>\n",
       "      <td>26.000000</td>\n",
       "      <td>5.000000</td>\n",
       "      <td>0.546154</td>\n",
       "      <td>0.957447</td>\n",
       "      <td>0.652174</td>\n",
       "      <td>0.500000</td>\n",
       "      <td>0.574766</td>\n",
       "      <td>0.769231</td>\n",
       "      <td>0.000000</td>\n",
       "      <td>2.000000</td>\n",
       "      <td>1.000000</td>\n",
       "      <td>0.699999</td>\n",
       "      <td>0.631579</td>\n",
       "      <td>2.197225</td>\n",
       "    </tr>\n",
       "    <tr>\n",
       "      <th>max</th>\n",
       "      <td>28.000000</td>\n",
       "      <td>6.000000</td>\n",
       "      <td>1.000000</td>\n",
       "      <td>1.000000</td>\n",
       "      <td>1.000000</td>\n",
       "      <td>1.000000</td>\n",
       "      <td>1.000000</td>\n",
       "      <td>1.000000</td>\n",
       "      <td>1.000000</td>\n",
       "      <td>4.000000</td>\n",
       "      <td>1.000000</td>\n",
       "      <td>1.000000</td>\n",
       "      <td>1.000000</td>\n",
       "      <td>2.833213</td>\n",
       "    </tr>\n",
       "  </tbody>\n",
       "</table>\n",
       "</div>"
      ],
      "text/plain": [
       "       Reason_for_absence  Day_of_the_week  Transportation_expense  \\\n",
       "count          718.000000       718.000000              718.000000   \n",
       "mean            19.409471         3.899721                0.392184   \n",
       "std              8.279768         1.419519                0.251251   \n",
       "min              0.000000         2.000000                0.000000   \n",
       "25%             13.000000         3.000000                0.234615   \n",
       "50%             23.000000         4.000000                0.411538   \n",
       "75%             26.000000         5.000000                0.546154   \n",
       "max             28.000000         6.000000                1.000000   \n",
       "\n",
       "       Distance_from_Residence_to_Work  Service_time         Age  \\\n",
       "count                       718.000000    718.000000  718.000000   \n",
       "mean                          0.522314      0.498849    0.352290   \n",
       "std                           0.314352      0.180409    0.234611   \n",
       "min                           0.000000      0.000000    0.000000   \n",
       "25%                           0.234043      0.347826    0.153846   \n",
       "50%                           0.446809      0.521739    0.384615   \n",
       "75%                           0.957447      0.652174    0.500000   \n",
       "max                           1.000000      1.000000    1.000000   \n",
       "\n",
       "       Work_load_Average_day_  Hit_target  Disciplinary_failure         Son  \\\n",
       "count              718.000000  718.000000            718.000000  718.000000   \n",
       "mean                 0.446823    0.611342              0.045961    1.001393   \n",
       "std                  0.235301    0.237132              0.209547    1.084311   \n",
       "min                  0.000000    0.000000              0.000000    0.000000   \n",
       "25%                  0.280116    0.461538              0.000000    0.000000   \n",
       "50%                  0.424739    0.615385              0.000000    1.000000   \n",
       "75%                  0.574766    0.769231              0.000000    2.000000   \n",
       "max                  1.000000    1.000000              1.000000    4.000000   \n",
       "\n",
       "       Social_drinker      Height  Body_mass_index  Absenteeism_time_in_hours  \n",
       "count      718.000000  718.000000       718.000000                 718.000000  \n",
       "mean         0.565460    0.526303         0.405672                   1.482805  \n",
       "std          0.496042    0.193889         0.225184                   0.658182  \n",
       "min          0.000000    0.000000         0.000000                   0.000000  \n",
       "25%          0.000000    0.400000         0.263158                   1.098612  \n",
       "50%          1.000000    0.500000         0.315789                   1.386294  \n",
       "75%          1.000000    0.699999         0.631579                   2.197225  \n",
       "max          1.000000    1.000000         1.000000                   2.833213  "
      ]
     },
     "execution_count": 55,
     "metadata": {},
     "output_type": "execute_result"
    }
   ],
   "source": [
    "Employee_abs.describe()"
   ]
  },
  {
   "cell_type": "code",
   "execution_count": 56,
   "metadata": {},
   "outputs": [],
   "source": [
    "#write Normalized data into drive-\n",
    "Employee_abs.to_csv(\"Absenteeism_Pre_processed.csv\",index=False)"
   ]
  },
  {
   "cell_type": "markdown",
   "metadata": {},
   "source": [
    "# Model Development "
   ]
  },
  {
   "cell_type": "code",
   "execution_count": 57,
   "metadata": {},
   "outputs": [],
   "source": [
    "df=Employee_abs.copy()\n",
    "#Employee_abs=df.copy()"
   ]
  },
  {
   "cell_type": "code",
   "execution_count": 61,
   "metadata": {},
   "outputs": [],
   "source": [
    "#Import libraries-\n",
    "from sklearn.metrics import accuracy_score\n",
    "from sklearn.metrics import mean_squared_error\n"
   ]
  },
  {
   "cell_type": "code",
   "execution_count": 58,
   "metadata": {},
   "outputs": [],
   "source": [
    "#Convert categorical to dummy variable-\n",
    "Employee_abs = pd.get_dummies(Employee_abs,columns=cat_cnames)\n",
    "\n",
    "#split data for predictor and target seperatly-\n",
    "X= Employee_abs.drop(['Absenteeism_time_in_hours'],axis=1)\n",
    "Y= Employee_abs['Absenteeism_time_in_hours']\n",
    "\n",
    "#Divide data into train and test-\n",
    "X_train,X_test,Y_train,Y_test= train_test_split(X,Y,test_size=.20,random_state=220192)\n"
   ]
  },
  {
   "cell_type": "markdown",
   "metadata": {},
   "source": [
    "## Decision Tree"
   ]
  },
  {
   "cell_type": "code",
   "execution_count": 62,
   "metadata": {},
   "outputs": [
    {
     "name": "stdout",
     "output_type": "stream",
     "text": [
      "Root Mean Square Rate for train data=0.07884952020037742\n",
      "Root Mean Square Rate for test data=0.5077699302714634\n",
      "R^2_score for train data=0.985408233172478\n",
      "R^2_score for test data=0.43752067187774235\n"
     ]
    }
   ],
   "source": [
    "from sklearn.tree import DecisionTreeRegressor\n",
    "\n",
    "#Decision tree for regression-\n",
    "DT_model= DecisionTreeRegressor().fit(X_train,Y_train)\n",
    "\n",
    "#model prediction on train data-\n",
    "DT_train= DT_model.predict(X_train)\n",
    "\n",
    "#model prediction on test data-\n",
    "DT_test= DT_model.predict(X_test)\n",
    "\n",
    "#RMSE for train data-\n",
    "RMSE_train=np.sqrt(mean_squared_error(Y_train,DT_train))\n",
    "\n",
    "#RMSE for test data-\n",
    "RMSE_test=np.sqrt(mean_squared_error(Y_test, DT_test))\n",
    "\n",
    "#r2 value for train data-\n",
    "r2_train= r2_score(Y_train,DT_train)\n",
    "\n",
    "#r2 value for test data-\n",
    "r2_test=r2_score(Y_test,DT_test)\n",
    "\n",
    "print(\"Root Mean Square Rate for train data=\"+str(RMSE_train))\n",
    "print(\"Root Mean Square Rate for test data=\"+str(RMSE_test))\n",
    "print(\"R^2_score for train data=\"+str(r2_train))\n",
    "print(\"R^2_score for test data=\"+str(r2_test))"
   ]
  },
  {
   "cell_type": "markdown",
   "metadata": {},
   "source": [
    "## Random Forest"
   ]
  },
  {
   "cell_type": "code",
   "execution_count": 63,
   "metadata": {},
   "outputs": [
    {
     "name": "stdout",
     "output_type": "stream",
     "text": [
      "Root Mean Square Rate for train data=0.17911848885529394\n",
      "Root Mean Square Rate for test data=0.38532052942800277\n",
      "R^2_score for train data=0.9247007579960954\n",
      "R^2_score for test data=0.6760955569232954\n"
     ]
    }
   ],
   "source": [
    "#import libraris-\n",
    "from sklearn.ensemble import RandomForestRegressor\n",
    "\n",
    "#Random Forest for regression-\n",
    "RF_model= RandomForestRegressor(n_estimators=300).fit(X_train,Y_train)\n",
    "\n",
    "#model prediction on train data-\n",
    "RF_train= RF_model.predict(X_train)\n",
    "\n",
    "#model prediction on test data-\n",
    "RF_test= RF_model.predict(X_test)\n",
    "\n",
    "#RMSE for train data-\n",
    "RMSE_train=np.sqrt(mean_squared_error(Y_train, RF_train))\n",
    "\n",
    "#RMSE for test data-\n",
    "RMSE_test=np.sqrt(mean_squared_error(Y_test, RF_test))\n",
    "\n",
    "#r2 value for train data-\n",
    "r2_train= r2_score(Y_train,RF_train)\n",
    "\n",
    "#r2 value for test data-\n",
    "r2_test=r2_score(Y_test,RF_test)\n",
    "\n",
    "print(\"Root Mean Square Rate for train data=\"+str(RMSE_train))\n",
    "print(\"Root Mean Square Rate for test data=\"+str(RMSE_test))\n",
    "print(\"R^2_score for train data=\"+str(r2_train))\n",
    "print(\"R^2_score for test data=\"+str(r2_test))"
   ]
  },
  {
   "cell_type": "markdown",
   "metadata": {},
   "source": [
    "# Linear Regression"
   ]
  },
  {
   "cell_type": "code",
   "execution_count": 64,
   "metadata": {},
   "outputs": [
    {
     "name": "stdout",
     "output_type": "stream",
     "text": [
      "                                OLS Regression Results                               \n",
      "=====================================================================================\n",
      "Dep. Variable:     Absenteeism_time_in_hours   R-squared:                       0.588\n",
      "Model:                                   OLS   Adj. R-squared:                  0.553\n",
      "Method:                        Least Squares   F-statistic:                     16.73\n",
      "Date:                       Thu, 06 Jun 2019   Prob (F-statistic):           3.41e-75\n",
      "Time:                               19:21:25   Log-Likelihood:                -315.28\n",
      "No. Observations:                        574   AIC:                             722.6\n",
      "Df Residuals:                            528   BIC:                             922.8\n",
      "Df Model:                                 45                                         \n",
      "Covariance Type:                   nonrobust                                         \n",
      "===================================================================================================\n",
      "                                      coef    std err          t      P>|t|      [0.025      0.975]\n",
      "---------------------------------------------------------------------------------------------------\n",
      "Transportation_expense              0.3278      0.116      2.831      0.005       0.100       0.555\n",
      "Distance_from_Residence_to_Work    -0.1530      0.099     -1.550      0.122      -0.347       0.041\n",
      "Service_time                        0.2736      0.187      1.464      0.144      -0.094       0.641\n",
      "Age                                -0.2740      0.133     -2.065      0.039      -0.535      -0.013\n",
      "Work_load_Average_day_             -0.0639      0.083     -0.774      0.439      -0.226       0.098\n",
      "Hit_target                         -0.0600      0.081     -0.739      0.460      -0.220       0.100\n",
      "Height                             -0.1634      0.115     -1.418      0.157      -0.390       0.063\n",
      "Body_mass_index                     0.0732      0.116      0.629      0.529      -0.155       0.302\n",
      "Reason_for_absence_0.0             -1.4032      0.307     -4.566      0.000      -2.007      -0.799\n",
      "Reason_for_absence_1.0              0.4022      0.127      3.173      0.002       0.153       0.651\n",
      "Reason_for_absence_2.0             -0.2108      0.432     -0.488      0.626      -1.060       0.638\n",
      "Reason_for_absence_3.0              0.5803      0.430      1.349      0.178      -0.265       1.425\n",
      "Reason_for_absence_4.0             -0.2637      0.310     -0.852      0.395      -0.872       0.344\n",
      "Reason_for_absence_5.0              0.3413      0.250      1.363      0.174      -0.151       0.833\n",
      "Reason_for_absence_6.0              0.2934      0.196      1.494      0.136      -0.092       0.679\n",
      "Reason_for_absence_7.0             -0.0072      0.127     -0.057      0.955      -0.257       0.242\n",
      "Reason_for_absence_8.0              0.1431      0.179      0.800      0.424      -0.208       0.495\n",
      "Reason_for_absence_9.0              0.8710      0.251      3.465      0.001       0.377       1.365\n",
      "Reason_for_absence_10.0             0.3508      0.111      3.150      0.002       0.132       0.569\n",
      "Reason_for_absence_11.0             0.0464      0.113      0.410      0.682      -0.176       0.269\n",
      "Reason_for_absence_12.0            -0.2890      0.167     -1.734      0.083      -0.616       0.038\n",
      "Reason_for_absence_13.0             0.1064      0.077      1.383      0.167      -0.045       0.258\n",
      "Reason_for_absence_14.0            -0.0166      0.120     -0.138      0.890      -0.253       0.220\n",
      "Reason_for_absence_15.0             0.3379      0.306      1.103      0.271      -0.264       0.940\n",
      "Reason_for_absence_16.0            -0.6389      0.252     -2.535      0.012      -1.134      -0.144\n",
      "Reason_for_absence_17.0             0.5905      0.432      1.367      0.172      -0.258       1.439\n",
      "Reason_for_absence_18.0             0.2915      0.112      2.601      0.010       0.071       0.512\n",
      "Reason_for_absence_19.0             0.2195      0.088      2.497      0.013       0.047       0.392\n",
      "Reason_for_absence_21.0             0.0881      0.179      0.492      0.623      -0.264       0.440\n",
      "Reason_for_absence_22.0             0.3907      0.096      4.091      0.000       0.203       0.578\n",
      "Reason_for_absence_23.0            -0.4466      0.059     -7.522      0.000      -0.563      -0.330\n",
      "Reason_for_absence_24.0             0.3212      0.308      1.043      0.297      -0.284       0.926\n",
      "Reason_for_absence_25.0            -0.2779      0.103     -2.699      0.007      -0.480      -0.076\n",
      "Reason_for_absence_26.0             0.2834      0.098      2.895      0.004       0.091       0.476\n",
      "Reason_for_absence_27.0            -0.5181      0.079     -6.599      0.000      -0.672      -0.364\n",
      "Reason_for_absence_28.0            -0.4826      0.065     -7.401      0.000      -0.611      -0.354\n",
      "Day_of_the_week_2.0                 0.2224      0.046      4.832      0.000       0.132       0.313\n",
      "Day_of_the_week_3.0                 0.2259      0.048      4.670      0.000       0.131       0.321\n",
      "Day_of_the_week_4.0                 0.2077      0.047      4.428      0.000       0.116       0.300\n",
      "Day_of_the_week_5.0                 0.2172      0.053      4.105      0.000       0.113       0.321\n",
      "Day_of_the_week_6.0                 0.2299      0.051      4.465      0.000       0.129       0.331\n",
      "Disciplinary_failure_0.0            0.7238      0.127      5.677      0.000       0.473       0.974\n",
      "Disciplinary_failure_1.0            0.3794      0.225      1.689      0.092      -0.062       0.821\n",
      "Son_0.0                             0.2655      0.060      4.419      0.000       0.147       0.384\n",
      "Son_1.0                             0.1473      0.055      2.686      0.007       0.040       0.255\n",
      "Son_2.0                             0.2559      0.061      4.171      0.000       0.135       0.376\n",
      "Son_3.0                            -0.0202      0.150     -0.135      0.893      -0.315       0.274\n",
      "Son_4.0                             0.4547      0.096      4.738      0.000       0.266       0.643\n",
      "Social_drinker_0.0                  0.4998      0.073      6.850      0.000       0.356       0.643\n",
      "Social_drinker_1.0                  0.6035      0.087      6.898      0.000       0.432       0.775\n",
      "==============================================================================\n",
      "Omnibus:                       20.469   Durbin-Watson:                   1.985\n",
      "Prob(Omnibus):                  0.000   Jarque-Bera (JB):               45.562\n",
      "Skew:                           0.120   Prob(JB):                     1.28e-10\n",
      "Kurtosis:                       4.359   Cond. No.                     1.24e+16\n",
      "==============================================================================\n",
      "\n",
      "Warnings:\n",
      "[1] Standard Errors assume that the covariance matrix of the errors is correctly specified.\n",
      "[2] The smallest eigenvalue is 1.45e-29. This might indicate that there are\n",
      "strong multicollinearity problems or that the design matrix is singular.\n"
     ]
    }
   ],
   "source": [
    "#import libraries-\n",
    "from sklearn.linear_model import LinearRegression\n",
    "import statsmodels.api as sm\n",
    "\n",
    "#Linear Regression model for regression-\n",
    "LR_model= sm.OLS(Y_train,X_train).fit()\n",
    "print(LR_model.summary())"
   ]
  },
  {
   "cell_type": "code",
   "execution_count": 65,
   "metadata": {},
   "outputs": [
    {
     "name": "stdout",
     "output_type": "stream",
     "text": [
      "Root Mean Square Rate for train data=0.41909287918327137\n",
      "Root Mean Square Rate for test data=0.42009883150633176\n",
      "R^2_score for train data=0.5877787890719897\n",
      "R^2_score for test data=0.6149868563097234\n"
     ]
    }
   ],
   "source": [
    "#model prediction on train data-\n",
    "LR_train= LR_model.predict(X_train)\n",
    "\n",
    "#model prediction on test data-\n",
    "LR_test= LR_model.predict(X_test)\n",
    "\n",
    "#RMSE for train data-\n",
    "RMSE_train=np.sqrt(mean_squared_error(Y_train,LR_train))\n",
    "\n",
    "#RMSE for test data-\n",
    "RMSE_test=np.sqrt(mean_squared_error(Y_test,LR_test))\n",
    "\n",
    "#r2 for train data-\n",
    "r2_train=r2_score(Y_train,LR_train)\n",
    "\n",
    "#r2 for test data-\n",
    "r2_test=r2_score(Y_test,LR_test)\n",
    "\n",
    "print(\"Root Mean Square Rate for train data=\"+str(RMSE_train))\n",
    "print(\"Root Mean Square Rate for test data=\"+str(RMSE_test))\n",
    "print(\"R^2_score for train data=\"+str(r2_train))\n",
    "print(\"R^2_score for test data=\"+str(r2_test))"
   ]
  },
  {
   "cell_type": "markdown",
   "metadata": {},
   "source": [
    "## Gradient Boosting"
   ]
  },
  {
   "cell_type": "code",
   "execution_count": 66,
   "metadata": {},
   "outputs": [
    {
     "name": "stdout",
     "output_type": "stream",
     "text": [
      "Root Mean Square Rate for train data=0.36021652302169055\n",
      "Root Mean Square Rate for test data=0.3974748203880278\n",
      "R^2_score for train data=0.6954651276654374\n",
      "R^2_score for test data=0.6553392313385958\n"
     ]
    }
   ],
   "source": [
    "#import libraries-\n",
    "from sklearn.ensemble import GradientBoostingRegressor\n",
    "\n",
    "#Gradient Boosting for regression-\n",
    "GB_model = GradientBoostingRegressor().fit(X_train, Y_train)\n",
    "\n",
    "#model prediction on train data-\n",
    "GB_train= GB_model.predict(X_train)\n",
    "\n",
    "#model prediction on test data-\n",
    "GB_test= GB_model.predict(X_test)\n",
    "\n",
    "#RMSE for train data-\n",
    "RMSE_train=np.sqrt(mean_squared_error(Y_train,GB_train))\n",
    "\n",
    "#RMSE for test data-\n",
    "RMSE_test=np.sqrt(mean_squared_error(Y_test, GB_test))\n",
    "\n",
    "#r2 value for train data-\n",
    "r2_train= r2_score(Y_train,GB_train)\n",
    "\n",
    "#r2 value for test data-\n",
    "r2_test=r2_score(Y_test,GB_test)\n",
    "\n",
    "print(\"Root Mean Square Rate for train data=\"+str(RMSE_train))\n",
    "print(\"Root Mean Square Rate for test data=\"+str(RMSE_test))\n",
    "print(\"R^2_score for train data=\"+str(r2_train))\n",
    "print(\"R^2_score for test data=\"+str(r2_test))"
   ]
  },
  {
   "cell_type": "markdown",
   "metadata": {},
   "source": [
    "## 1. What changes company should bring to reduce the number of absenteeism?"
   ]
  },
  {
   "cell_type": "markdown",
   "metadata": {},
   "source": [
    "# \n",
    "From the above (Data understanding) plots we can say that people with only a high school degree are absent more often. \n",
    "The reson frequently used is 1 in absenteeism hrs.which is code of Diseases.we can see that people with\n",
    "no children or no pets tend to be absent more ofte than people who have children or pets. we can also \n",
    "see that the people who are social drinker tend to be absent more as comapre to non drinker.\n",
    "Absenteeism through months and days of week and seasons are almost constant. \n",
    "People with disciplinary failure o have maximum absenteeism.\n",
    "-->Employee who have work load between 240 to 300 minutes and age below 30 and serive time is below 8, these employee tend to absent more frequently"
   ]
  },
  {
   "cell_type": "markdown",
   "metadata": {},
   "source": [
    "## 2. How much losses every month can we project in 2011 if same trend of absenteeism continues?"
   ]
  },
  {
   "cell_type": "code",
   "execution_count": 67,
   "metadata": {},
   "outputs": [],
   "source": [
    "#Loading data to another dataframe\n",
    "loss_month=df5.copy()"
   ]
  },
  {
   "cell_type": "code",
   "execution_count": 68,
   "metadata": {},
   "outputs": [
    {
     "data": {
      "text/html": [
       "<div>\n",
       "<style scoped>\n",
       "    .dataframe tbody tr th:only-of-type {\n",
       "        vertical-align: middle;\n",
       "    }\n",
       "\n",
       "    .dataframe tbody tr th {\n",
       "        vertical-align: top;\n",
       "    }\n",
       "\n",
       "    .dataframe thead th {\n",
       "        text-align: right;\n",
       "    }\n",
       "</style>\n",
       "<table border=\"1\" class=\"dataframe\">\n",
       "  <thead>\n",
       "    <tr style=\"text-align: right;\">\n",
       "      <th></th>\n",
       "      <th>Reason_for_absence</th>\n",
       "      <th>Month_of_absence</th>\n",
       "      <th>Day_of_the_week</th>\n",
       "      <th>Seasons</th>\n",
       "      <th>Transportation_expense</th>\n",
       "      <th>Distance_from_Residence_to_Work</th>\n",
       "      <th>Service_time</th>\n",
       "      <th>Age</th>\n",
       "      <th>Work_load_Average_day_</th>\n",
       "      <th>Hit_target</th>\n",
       "      <th>Disciplinary_failure</th>\n",
       "      <th>Education</th>\n",
       "      <th>Son</th>\n",
       "      <th>Social_drinker</th>\n",
       "      <th>Social_smoker</th>\n",
       "      <th>Pet</th>\n",
       "      <th>Weight</th>\n",
       "      <th>Height</th>\n",
       "      <th>Body_mass_index</th>\n",
       "      <th>Absenteeism_time_in_hours</th>\n",
       "    </tr>\n",
       "  </thead>\n",
       "  <tbody>\n",
       "    <tr>\n",
       "      <th>0</th>\n",
       "      <td>26.0</td>\n",
       "      <td>7.0</td>\n",
       "      <td>3.0</td>\n",
       "      <td>1.0</td>\n",
       "      <td>289.0</td>\n",
       "      <td>36.0</td>\n",
       "      <td>13.0</td>\n",
       "      <td>33.0</td>\n",
       "      <td>239.554</td>\n",
       "      <td>97.0</td>\n",
       "      <td>0.0</td>\n",
       "      <td>1.0</td>\n",
       "      <td>2.0</td>\n",
       "      <td>1.0</td>\n",
       "      <td>0.0</td>\n",
       "      <td>1.0</td>\n",
       "      <td>90.0</td>\n",
       "      <td>172.0</td>\n",
       "      <td>30.0</td>\n",
       "      <td>4.0</td>\n",
       "    </tr>\n",
       "    <tr>\n",
       "      <th>1</th>\n",
       "      <td>0.0</td>\n",
       "      <td>7.0</td>\n",
       "      <td>3.0</td>\n",
       "      <td>1.0</td>\n",
       "      <td>118.0</td>\n",
       "      <td>13.0</td>\n",
       "      <td>18.0</td>\n",
       "      <td>50.0</td>\n",
       "      <td>239.554</td>\n",
       "      <td>97.0</td>\n",
       "      <td>1.0</td>\n",
       "      <td>1.0</td>\n",
       "      <td>1.0</td>\n",
       "      <td>1.0</td>\n",
       "      <td>0.0</td>\n",
       "      <td>0.0</td>\n",
       "      <td>98.0</td>\n",
       "      <td>172.0</td>\n",
       "      <td>31.0</td>\n",
       "      <td>0.0</td>\n",
       "    </tr>\n",
       "    <tr>\n",
       "      <th>2</th>\n",
       "      <td>23.0</td>\n",
       "      <td>7.0</td>\n",
       "      <td>4.0</td>\n",
       "      <td>1.0</td>\n",
       "      <td>179.0</td>\n",
       "      <td>51.0</td>\n",
       "      <td>18.0</td>\n",
       "      <td>38.0</td>\n",
       "      <td>239.554</td>\n",
       "      <td>97.0</td>\n",
       "      <td>0.0</td>\n",
       "      <td>1.0</td>\n",
       "      <td>0.0</td>\n",
       "      <td>1.0</td>\n",
       "      <td>0.0</td>\n",
       "      <td>0.0</td>\n",
       "      <td>89.0</td>\n",
       "      <td>170.0</td>\n",
       "      <td>31.0</td>\n",
       "      <td>2.0</td>\n",
       "    </tr>\n",
       "    <tr>\n",
       "      <th>3</th>\n",
       "      <td>7.0</td>\n",
       "      <td>7.0</td>\n",
       "      <td>5.0</td>\n",
       "      <td>1.0</td>\n",
       "      <td>279.0</td>\n",
       "      <td>5.0</td>\n",
       "      <td>14.0</td>\n",
       "      <td>39.0</td>\n",
       "      <td>239.554</td>\n",
       "      <td>97.0</td>\n",
       "      <td>0.0</td>\n",
       "      <td>1.0</td>\n",
       "      <td>2.0</td>\n",
       "      <td>1.0</td>\n",
       "      <td>1.0</td>\n",
       "      <td>0.0</td>\n",
       "      <td>68.0</td>\n",
       "      <td>168.0</td>\n",
       "      <td>24.0</td>\n",
       "      <td>4.0</td>\n",
       "    </tr>\n",
       "    <tr>\n",
       "      <th>4</th>\n",
       "      <td>23.0</td>\n",
       "      <td>7.0</td>\n",
       "      <td>5.0</td>\n",
       "      <td>1.0</td>\n",
       "      <td>289.0</td>\n",
       "      <td>36.0</td>\n",
       "      <td>13.0</td>\n",
       "      <td>33.0</td>\n",
       "      <td>239.554</td>\n",
       "      <td>97.0</td>\n",
       "      <td>0.0</td>\n",
       "      <td>1.0</td>\n",
       "      <td>2.0</td>\n",
       "      <td>1.0</td>\n",
       "      <td>0.0</td>\n",
       "      <td>1.0</td>\n",
       "      <td>90.0</td>\n",
       "      <td>172.0</td>\n",
       "      <td>30.0</td>\n",
       "      <td>2.0</td>\n",
       "    </tr>\n",
       "  </tbody>\n",
       "</table>\n",
       "</div>"
      ],
      "text/plain": [
       "   Reason_for_absence  Month_of_absence  Day_of_the_week  Seasons  \\\n",
       "0                26.0               7.0              3.0      1.0   \n",
       "1                 0.0               7.0              3.0      1.0   \n",
       "2                23.0               7.0              4.0      1.0   \n",
       "3                 7.0               7.0              5.0      1.0   \n",
       "4                23.0               7.0              5.0      1.0   \n",
       "\n",
       "   Transportation_expense  Distance_from_Residence_to_Work  Service_time  \\\n",
       "0                   289.0                             36.0          13.0   \n",
       "1                   118.0                             13.0          18.0   \n",
       "2                   179.0                             51.0          18.0   \n",
       "3                   279.0                              5.0          14.0   \n",
       "4                   289.0                             36.0          13.0   \n",
       "\n",
       "    Age  Work_load_Average_day_  Hit_target  Disciplinary_failure  Education  \\\n",
       "0  33.0                 239.554        97.0                   0.0        1.0   \n",
       "1  50.0                 239.554        97.0                   1.0        1.0   \n",
       "2  38.0                 239.554        97.0                   0.0        1.0   \n",
       "3  39.0                 239.554        97.0                   0.0        1.0   \n",
       "4  33.0                 239.554        97.0                   0.0        1.0   \n",
       "\n",
       "   Son  Social_drinker  Social_smoker  Pet  Weight  Height  Body_mass_index  \\\n",
       "0  2.0             1.0            0.0  1.0    90.0   172.0             30.0   \n",
       "1  1.0             1.0            0.0  0.0    98.0   172.0             31.0   \n",
       "2  0.0             1.0            0.0  0.0    89.0   170.0             31.0   \n",
       "3  2.0             1.0            1.0  0.0    68.0   168.0             24.0   \n",
       "4  2.0             1.0            0.0  1.0    90.0   172.0             30.0   \n",
       "\n",
       "   Absenteeism_time_in_hours  \n",
       "0                        4.0  \n",
       "1                        0.0  \n",
       "2                        2.0  \n",
       "3                        4.0  \n",
       "4                        2.0  "
      ]
     },
     "execution_count": 68,
     "metadata": {},
     "output_type": "execute_result"
    }
   ],
   "source": [
    "loss_month.head()"
   ]
  },
  {
   "cell_type": "code",
   "execution_count": 69,
   "metadata": {},
   "outputs": [],
   "source": [
    "#work loss per month\n",
    "loss_month['work_loss_average_day'] = 0\n",
    "for i  in range(len(loss_month)):\n",
    "    loss_month['work_loss_average_day'].loc[i] = ((loss_month['Work_load_Average_day_'].loc[i])/24)*loss_month['Absenteeism_time_in_hours'].loc[i]"
   ]
  },
  {
   "cell_type": "code",
   "execution_count": 71,
   "metadata": {
    "scrolled": true
   },
   "outputs": [
    {
     "data": {
      "text/html": [
       "<div>\n",
       "<style scoped>\n",
       "    .dataframe tbody tr th:only-of-type {\n",
       "        vertical-align: middle;\n",
       "    }\n",
       "\n",
       "    .dataframe tbody tr th {\n",
       "        vertical-align: top;\n",
       "    }\n",
       "\n",
       "    .dataframe thead th {\n",
       "        text-align: right;\n",
       "    }\n",
       "</style>\n",
       "<table border=\"1\" class=\"dataframe\">\n",
       "  <thead>\n",
       "    <tr style=\"text-align: right;\">\n",
       "      <th></th>\n",
       "      <th>Reason_for_absence</th>\n",
       "      <th>Month_of_absence</th>\n",
       "      <th>Day_of_the_week</th>\n",
       "      <th>Seasons</th>\n",
       "      <th>Transportation_expense</th>\n",
       "      <th>Distance_from_Residence_to_Work</th>\n",
       "      <th>Service_time</th>\n",
       "      <th>Age</th>\n",
       "      <th>Work_load_Average_day_</th>\n",
       "      <th>Hit_target</th>\n",
       "      <th>...</th>\n",
       "      <th>Education</th>\n",
       "      <th>Son</th>\n",
       "      <th>Social_drinker</th>\n",
       "      <th>Social_smoker</th>\n",
       "      <th>Pet</th>\n",
       "      <th>Weight</th>\n",
       "      <th>Height</th>\n",
       "      <th>Body_mass_index</th>\n",
       "      <th>Absenteeism_time_in_hours</th>\n",
       "      <th>work_loss_average_day</th>\n",
       "    </tr>\n",
       "  </thead>\n",
       "  <tbody>\n",
       "    <tr>\n",
       "      <th>0</th>\n",
       "      <td>26.0</td>\n",
       "      <td>7.0</td>\n",
       "      <td>3.0</td>\n",
       "      <td>1.0</td>\n",
       "      <td>289.0</td>\n",
       "      <td>36.0</td>\n",
       "      <td>13.0</td>\n",
       "      <td>33.0</td>\n",
       "      <td>239.554</td>\n",
       "      <td>97.0</td>\n",
       "      <td>...</td>\n",
       "      <td>1.0</td>\n",
       "      <td>2.0</td>\n",
       "      <td>1.0</td>\n",
       "      <td>0.0</td>\n",
       "      <td>1.0</td>\n",
       "      <td>90.0</td>\n",
       "      <td>172.0</td>\n",
       "      <td>30.0</td>\n",
       "      <td>4.0</td>\n",
       "      <td>39.925667</td>\n",
       "    </tr>\n",
       "    <tr>\n",
       "      <th>1</th>\n",
       "      <td>0.0</td>\n",
       "      <td>7.0</td>\n",
       "      <td>3.0</td>\n",
       "      <td>1.0</td>\n",
       "      <td>118.0</td>\n",
       "      <td>13.0</td>\n",
       "      <td>18.0</td>\n",
       "      <td>50.0</td>\n",
       "      <td>239.554</td>\n",
       "      <td>97.0</td>\n",
       "      <td>...</td>\n",
       "      <td>1.0</td>\n",
       "      <td>1.0</td>\n",
       "      <td>1.0</td>\n",
       "      <td>0.0</td>\n",
       "      <td>0.0</td>\n",
       "      <td>98.0</td>\n",
       "      <td>172.0</td>\n",
       "      <td>31.0</td>\n",
       "      <td>0.0</td>\n",
       "      <td>0.000000</td>\n",
       "    </tr>\n",
       "    <tr>\n",
       "      <th>2</th>\n",
       "      <td>23.0</td>\n",
       "      <td>7.0</td>\n",
       "      <td>4.0</td>\n",
       "      <td>1.0</td>\n",
       "      <td>179.0</td>\n",
       "      <td>51.0</td>\n",
       "      <td>18.0</td>\n",
       "      <td>38.0</td>\n",
       "      <td>239.554</td>\n",
       "      <td>97.0</td>\n",
       "      <td>...</td>\n",
       "      <td>1.0</td>\n",
       "      <td>0.0</td>\n",
       "      <td>1.0</td>\n",
       "      <td>0.0</td>\n",
       "      <td>0.0</td>\n",
       "      <td>89.0</td>\n",
       "      <td>170.0</td>\n",
       "      <td>31.0</td>\n",
       "      <td>2.0</td>\n",
       "      <td>19.962833</td>\n",
       "    </tr>\n",
       "    <tr>\n",
       "      <th>3</th>\n",
       "      <td>7.0</td>\n",
       "      <td>7.0</td>\n",
       "      <td>5.0</td>\n",
       "      <td>1.0</td>\n",
       "      <td>279.0</td>\n",
       "      <td>5.0</td>\n",
       "      <td>14.0</td>\n",
       "      <td>39.0</td>\n",
       "      <td>239.554</td>\n",
       "      <td>97.0</td>\n",
       "      <td>...</td>\n",
       "      <td>1.0</td>\n",
       "      <td>2.0</td>\n",
       "      <td>1.0</td>\n",
       "      <td>1.0</td>\n",
       "      <td>0.0</td>\n",
       "      <td>68.0</td>\n",
       "      <td>168.0</td>\n",
       "      <td>24.0</td>\n",
       "      <td>4.0</td>\n",
       "      <td>39.925667</td>\n",
       "    </tr>\n",
       "    <tr>\n",
       "      <th>4</th>\n",
       "      <td>23.0</td>\n",
       "      <td>7.0</td>\n",
       "      <td>5.0</td>\n",
       "      <td>1.0</td>\n",
       "      <td>289.0</td>\n",
       "      <td>36.0</td>\n",
       "      <td>13.0</td>\n",
       "      <td>33.0</td>\n",
       "      <td>239.554</td>\n",
       "      <td>97.0</td>\n",
       "      <td>...</td>\n",
       "      <td>1.0</td>\n",
       "      <td>2.0</td>\n",
       "      <td>1.0</td>\n",
       "      <td>0.0</td>\n",
       "      <td>1.0</td>\n",
       "      <td>90.0</td>\n",
       "      <td>172.0</td>\n",
       "      <td>30.0</td>\n",
       "      <td>2.0</td>\n",
       "      <td>19.962833</td>\n",
       "    </tr>\n",
       "  </tbody>\n",
       "</table>\n",
       "<p>5 rows × 21 columns</p>\n",
       "</div>"
      ],
      "text/plain": [
       "   Reason_for_absence  Month_of_absence  Day_of_the_week  Seasons  \\\n",
       "0                26.0               7.0              3.0      1.0   \n",
       "1                 0.0               7.0              3.0      1.0   \n",
       "2                23.0               7.0              4.0      1.0   \n",
       "3                 7.0               7.0              5.0      1.0   \n",
       "4                23.0               7.0              5.0      1.0   \n",
       "\n",
       "   Transportation_expense  Distance_from_Residence_to_Work  Service_time  \\\n",
       "0                   289.0                             36.0          13.0   \n",
       "1                   118.0                             13.0          18.0   \n",
       "2                   179.0                             51.0          18.0   \n",
       "3                   279.0                              5.0          14.0   \n",
       "4                   289.0                             36.0          13.0   \n",
       "\n",
       "    Age  Work_load_Average_day_  Hit_target          ...            Education  \\\n",
       "0  33.0                 239.554        97.0          ...                  1.0   \n",
       "1  50.0                 239.554        97.0          ...                  1.0   \n",
       "2  38.0                 239.554        97.0          ...                  1.0   \n",
       "3  39.0                 239.554        97.0          ...                  1.0   \n",
       "4  33.0                 239.554        97.0          ...                  1.0   \n",
       "\n",
       "   Son  Social_drinker  Social_smoker  Pet  Weight  Height  Body_mass_index  \\\n",
       "0  2.0             1.0            0.0  1.0    90.0   172.0             30.0   \n",
       "1  1.0             1.0            0.0  0.0    98.0   172.0             31.0   \n",
       "2  0.0             1.0            0.0  0.0    89.0   170.0             31.0   \n",
       "3  2.0             1.0            1.0  0.0    68.0   168.0             24.0   \n",
       "4  2.0             1.0            0.0  1.0    90.0   172.0             30.0   \n",
       "\n",
       "   Absenteeism_time_in_hours  work_loss_average_day  \n",
       "0                        4.0              39.925667  \n",
       "1                        0.0               0.000000  \n",
       "2                        2.0              19.962833  \n",
       "3                        4.0              39.925667  \n",
       "4                        2.0              19.962833  \n",
       "\n",
       "[5 rows x 21 columns]"
      ]
     },
     "execution_count": 71,
     "metadata": {},
     "output_type": "execute_result"
    }
   ],
   "source": [
    "loss_month.head()"
   ]
  },
  {
   "cell_type": "code",
   "execution_count": 73,
   "metadata": {},
   "outputs": [],
   "source": [
    "#total absenteeism per month-\n",
    "Absenteeism_hours_monthly = loss_month.groupby('Month_of_absence').sum()"
   ]
  },
  {
   "cell_type": "code",
   "execution_count": 74,
   "metadata": {},
   "outputs": [],
   "source": [
    "Absenteeism_hours_monthly= Absenteeism_hours_monthly[['Absenteeism_time_in_hours','work_loss_average_day']]"
   ]
  },
  {
   "cell_type": "code",
   "execution_count": 75,
   "metadata": {},
   "outputs": [],
   "source": [
    "Monthly_loss= Absenteeism_hours_monthly.rename(columns={'Absenteeism_time_in_hours': 'Absenteeism time/month(hrs.)', \n",
    "                            'work_loss_average_day': 'Work loss per month'})"
   ]
  },
  {
   "cell_type": "code",
   "execution_count": 76,
   "metadata": {},
   "outputs": [
    {
     "data": {
      "text/html": [
       "<div>\n",
       "<style scoped>\n",
       "    .dataframe tbody tr th:only-of-type {\n",
       "        vertical-align: middle;\n",
       "    }\n",
       "\n",
       "    .dataframe tbody tr th {\n",
       "        vertical-align: top;\n",
       "    }\n",
       "\n",
       "    .dataframe thead th {\n",
       "        text-align: right;\n",
       "    }\n",
       "</style>\n",
       "<table border=\"1\" class=\"dataframe\">\n",
       "  <thead>\n",
       "    <tr style=\"text-align: right;\">\n",
       "      <th></th>\n",
       "      <th>Absenteeism time/month(hrs.)</th>\n",
       "      <th>Work loss per month</th>\n",
       "    </tr>\n",
       "    <tr>\n",
       "      <th>Month_of_absence</th>\n",
       "      <th></th>\n",
       "      <th></th>\n",
       "    </tr>\n",
       "  </thead>\n",
       "  <tbody>\n",
       "    <tr>\n",
       "      <th>1.0</th>\n",
       "      <td>171.685945</td>\n",
       "      <td>2258.468119</td>\n",
       "    </tr>\n",
       "    <tr>\n",
       "      <th>2.0</th>\n",
       "      <td>279.364511</td>\n",
       "      <td>3167.553023</td>\n",
       "    </tr>\n",
       "    <tr>\n",
       "      <th>3.0</th>\n",
       "      <td>443.587342</td>\n",
       "      <td>5202.503497</td>\n",
       "    </tr>\n",
       "    <tr>\n",
       "      <th>4.0</th>\n",
       "      <td>239.915715</td>\n",
       "      <td>2732.079510</td>\n",
       "    </tr>\n",
       "    <tr>\n",
       "      <th>5.0</th>\n",
       "      <td>259.744293</td>\n",
       "      <td>2651.602016</td>\n",
       "    </tr>\n",
       "    <tr>\n",
       "      <th>6.0</th>\n",
       "      <td>240.571077</td>\n",
       "      <td>2710.274163</td>\n",
       "    </tr>\n",
       "    <tr>\n",
       "      <th>7.0</th>\n",
       "      <td>370.688157</td>\n",
       "      <td>3914.799765</td>\n",
       "    </tr>\n",
       "    <tr>\n",
       "      <th>8.0</th>\n",
       "      <td>237.163987</td>\n",
       "      <td>2332.985366</td>\n",
       "    </tr>\n",
       "    <tr>\n",
       "      <th>9.0</th>\n",
       "      <td>186.884730</td>\n",
       "      <td>2118.879953</td>\n",
       "    </tr>\n",
       "    <tr>\n",
       "      <th>10.0</th>\n",
       "      <td>281.000014</td>\n",
       "      <td>3152.253693</td>\n",
       "    </tr>\n",
       "    <tr>\n",
       "      <th>11.0</th>\n",
       "      <td>245.691372</td>\n",
       "      <td>2915.497810</td>\n",
       "    </tr>\n",
       "    <tr>\n",
       "      <th>12.0</th>\n",
       "      <td>199.865272</td>\n",
       "      <td>2159.711668</td>\n",
       "    </tr>\n",
       "  </tbody>\n",
       "</table>\n",
       "</div>"
      ],
      "text/plain": [
       "                  Absenteeism time/month(hrs.)  Work loss per month\n",
       "Month_of_absence                                                   \n",
       "1.0                                 171.685945          2258.468119\n",
       "2.0                                 279.364511          3167.553023\n",
       "3.0                                 443.587342          5202.503497\n",
       "4.0                                 239.915715          2732.079510\n",
       "5.0                                 259.744293          2651.602016\n",
       "6.0                                 240.571077          2710.274163\n",
       "7.0                                 370.688157          3914.799765\n",
       "8.0                                 237.163987          2332.985366\n",
       "9.0                                 186.884730          2118.879953\n",
       "10.0                                281.000014          3152.253693\n",
       "11.0                                245.691372          2915.497810\n",
       "12.0                                199.865272          2159.711668"
      ]
     },
     "execution_count": 76,
     "metadata": {},
     "output_type": "execute_result"
    }
   ],
   "source": [
    "Monthly_loss"
   ]
  },
  {
   "cell_type": "code",
   "execution_count": null,
   "metadata": {},
   "outputs": [],
   "source": []
  }
 ],
 "metadata": {
  "kernelspec": {
   "display_name": "Python 3",
   "language": "python",
   "name": "python3"
  },
  "language_info": {
   "codemirror_mode": {
    "name": "ipython",
    "version": 3
   },
   "file_extension": ".py",
   "mimetype": "text/x-python",
   "name": "python",
   "nbconvert_exporter": "python",
   "pygments_lexer": "ipython3",
   "version": "3.6.8"
  }
 },
 "nbformat": 4,
 "nbformat_minor": 2
}
